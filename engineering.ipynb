{
 "cells": [
  {
   "cell_type": "markdown",
   "id": "3e72c94d",
   "metadata": {},
   "source": [
    "## Data-Engineering Assessment "
   ]
  },
  {
   "cell_type": "markdown",
   "id": "25579a6b",
   "metadata": {},
   "source": [
    "#### With Python"
   ]
  },
  {
   "cell_type": "code",
   "execution_count": 67,
   "id": "eec39cad",
   "metadata": {},
   "outputs": [],
   "source": [
    "import numpy as nu   \n",
    "import pandas as pd     \n",
    "import matplotlib.pyplot as plt   \n",
    "import seaborn as sns   \n"
   ]
  },
  {
   "cell_type": "code",
   "execution_count": 68,
   "id": "9092c4ad",
   "metadata": {},
   "outputs": [],
   "source": [
    "orders = pd.read_csv(r'C:\\Users\\HP\\Downloads\\orders.csv')\n",
    "products = pd.read_csv(r'C:\\Users\\HP\\Downloads\\products.csv')\n",
    "customers = pd.read_csv(r'C:\\Users\\HP\\Downloads\\customers.csv')"
   ]
  },
  {
   "cell_type": "code",
   "execution_count": 69,
   "id": "1710fdb0",
   "metadata": {},
   "outputs": [
    {
     "data": {
      "text/html": [
       "<div>\n",
       "<style scoped>\n",
       "    .dataframe tbody tr th:only-of-type {\n",
       "        vertical-align: middle;\n",
       "    }\n",
       "\n",
       "    .dataframe tbody tr th {\n",
       "        vertical-align: top;\n",
       "    }\n",
       "\n",
       "    .dataframe thead th {\n",
       "        text-align: right;\n",
       "    }\n",
       "</style>\n",
       "<table border=\"1\" class=\"dataframe\">\n",
       "  <thead>\n",
       "    <tr style=\"text-align: right;\">\n",
       "      <th></th>\n",
       "      <th>order_id</th>\n",
       "      <th>customer_id</th>\n",
       "      <th>product_id</th>\n",
       "      <th>order_date</th>\n",
       "      <th>amount</th>\n",
       "    </tr>\n",
       "  </thead>\n",
       "  <tbody>\n",
       "    <tr>\n",
       "      <th>0</th>\n",
       "      <td>10001</td>\n",
       "      <td>39</td>\n",
       "      <td>1015</td>\n",
       "      <td>2023-08-15</td>\n",
       "      <td>497.49</td>\n",
       "    </tr>\n",
       "  </tbody>\n",
       "</table>\n",
       "</div>"
      ],
      "text/plain": [
       "   order_id  customer_id  product_id  order_date  amount\n",
       "0     10001           39        1015  2023-08-15  497.49"
      ]
     },
     "execution_count": 69,
     "metadata": {},
     "output_type": "execute_result"
    }
   ],
   "source": [
    "orders.head(1)"
   ]
  },
  {
   "cell_type": "code",
   "execution_count": 70,
   "id": "00ad5b23",
   "metadata": {},
   "outputs": [
    {
     "data": {
      "text/html": [
       "<div>\n",
       "<style scoped>\n",
       "    .dataframe tbody tr th:only-of-type {\n",
       "        vertical-align: middle;\n",
       "    }\n",
       "\n",
       "    .dataframe tbody tr th {\n",
       "        vertical-align: top;\n",
       "    }\n",
       "\n",
       "    .dataframe thead th {\n",
       "        text-align: right;\n",
       "    }\n",
       "</style>\n",
       "<table border=\"1\" class=\"dataframe\">\n",
       "  <thead>\n",
       "    <tr style=\"text-align: right;\">\n",
       "      <th></th>\n",
       "      <th>product_id</th>\n",
       "      <th>product_name</th>\n",
       "      <th>category</th>\n",
       "      <th>price</th>\n",
       "    </tr>\n",
       "  </thead>\n",
       "  <tbody>\n",
       "    <tr>\n",
       "      <th>0</th>\n",
       "      <td>1001</td>\n",
       "      <td>Medical</td>\n",
       "      <td>Electronics</td>\n",
       "      <td>540.75</td>\n",
       "    </tr>\n",
       "  </tbody>\n",
       "</table>\n",
       "</div>"
      ],
      "text/plain": [
       "   product_id product_name     category   price\n",
       "0        1001      Medical  Electronics  540.75"
      ]
     },
     "execution_count": 70,
     "metadata": {},
     "output_type": "execute_result"
    }
   ],
   "source": [
    "products.head(1)"
   ]
  },
  {
   "cell_type": "code",
   "execution_count": 71,
   "id": "d35fdbde",
   "metadata": {},
   "outputs": [
    {
     "data": {
      "text/html": [
       "<div>\n",
       "<style scoped>\n",
       "    .dataframe tbody tr th:only-of-type {\n",
       "        vertical-align: middle;\n",
       "    }\n",
       "\n",
       "    .dataframe tbody tr th {\n",
       "        vertical-align: top;\n",
       "    }\n",
       "\n",
       "    .dataframe thead th {\n",
       "        text-align: right;\n",
       "    }\n",
       "</style>\n",
       "<table border=\"1\" class=\"dataframe\">\n",
       "  <thead>\n",
       "    <tr style=\"text-align: right;\">\n",
       "      <th></th>\n",
       "      <th>customer_id</th>\n",
       "      <th>name</th>\n",
       "      <th>email</th>\n",
       "      <th>join_date</th>\n",
       "    </tr>\n",
       "  </thead>\n",
       "  <tbody>\n",
       "    <tr>\n",
       "      <th>0</th>\n",
       "      <td>1</td>\n",
       "      <td>Jennifer</td>\n",
       "      <td>buchanankimberly@james.biz</td>\n",
       "      <td>2023-03-31</td>\n",
       "    </tr>\n",
       "  </tbody>\n",
       "</table>\n",
       "</div>"
      ],
      "text/plain": [
       "   customer_id      name                       email   join_date\n",
       "0            1  Jennifer  buchanankimberly@james.biz  2023-03-31"
      ]
     },
     "execution_count": 71,
     "metadata": {},
     "output_type": "execute_result"
    }
   ],
   "source": [
    "customers.head(1)"
   ]
  },
  {
   "cell_type": "code",
   "execution_count": 72,
   "id": "f24b6a2c",
   "metadata": {},
   "outputs": [],
   "source": [
    "step1 = orders.merge(customers, on='customer_id')\n",
    "step2 = step1.merge(products, on='product_id')\n"
   ]
  },
  {
   "cell_type": "code",
   "execution_count": 73,
   "id": "a67cd991",
   "metadata": {},
   "outputs": [
    {
     "data": {
      "text/html": [
       "<div>\n",
       "<style scoped>\n",
       "    .dataframe tbody tr th:only-of-type {\n",
       "        vertical-align: middle;\n",
       "    }\n",
       "\n",
       "    .dataframe tbody tr th {\n",
       "        vertical-align: top;\n",
       "    }\n",
       "\n",
       "    .dataframe thead th {\n",
       "        text-align: right;\n",
       "    }\n",
       "</style>\n",
       "<table border=\"1\" class=\"dataframe\">\n",
       "  <thead>\n",
       "    <tr style=\"text-align: right;\">\n",
       "      <th></th>\n",
       "      <th>order_id</th>\n",
       "      <th>customer_id</th>\n",
       "      <th>product_id</th>\n",
       "      <th>order_date</th>\n",
       "      <th>amount</th>\n",
       "      <th>name</th>\n",
       "      <th>email</th>\n",
       "      <th>join_date</th>\n",
       "      <th>product_name</th>\n",
       "      <th>category</th>\n",
       "      <th>price</th>\n",
       "    </tr>\n",
       "  </thead>\n",
       "  <tbody>\n",
       "    <tr>\n",
       "      <th>0</th>\n",
       "      <td>10001</td>\n",
       "      <td>39</td>\n",
       "      <td>1015</td>\n",
       "      <td>2023-08-15</td>\n",
       "      <td>497.49</td>\n",
       "      <td>Kristen</td>\n",
       "      <td>jenniferpratt@hotmail.com</td>\n",
       "      <td>2022-04-21</td>\n",
       "      <td>Near</td>\n",
       "      <td>Stationery</td>\n",
       "      <td>754.46</td>\n",
       "    </tr>\n",
       "    <tr>\n",
       "      <th>1</th>\n",
       "      <td>10008</td>\n",
       "      <td>33</td>\n",
       "      <td>1015</td>\n",
       "      <td>2024-10-22</td>\n",
       "      <td>350.77</td>\n",
       "      <td>Jared</td>\n",
       "      <td>austin98@gmail.com</td>\n",
       "      <td>2023-12-10</td>\n",
       "      <td>Near</td>\n",
       "      <td>Stationery</td>\n",
       "      <td>754.46</td>\n",
       "    </tr>\n",
       "    <tr>\n",
       "      <th>2</th>\n",
       "      <td>10045</td>\n",
       "      <td>33</td>\n",
       "      <td>1015</td>\n",
       "      <td>2023-04-30</td>\n",
       "      <td>385.34</td>\n",
       "      <td>Jared</td>\n",
       "      <td>austin98@gmail.com</td>\n",
       "      <td>2023-12-10</td>\n",
       "      <td>Near</td>\n",
       "      <td>Stationery</td>\n",
       "      <td>754.46</td>\n",
       "    </tr>\n",
       "    <tr>\n",
       "      <th>3</th>\n",
       "      <td>10059</td>\n",
       "      <td>24</td>\n",
       "      <td>1015</td>\n",
       "      <td>2023-04-02</td>\n",
       "      <td>269.31</td>\n",
       "      <td>Christopher</td>\n",
       "      <td>barnesmichael@cole.com</td>\n",
       "      <td>2022-08-19</td>\n",
       "      <td>Near</td>\n",
       "      <td>Stationery</td>\n",
       "      <td>754.46</td>\n",
       "    </tr>\n",
       "    <tr>\n",
       "      <th>4</th>\n",
       "      <td>10096</td>\n",
       "      <td>18</td>\n",
       "      <td>1015</td>\n",
       "      <td>2025-06-10</td>\n",
       "      <td>440.83</td>\n",
       "      <td>Travis</td>\n",
       "      <td>mjordan@snow.biz</td>\n",
       "      <td>2021-04-18</td>\n",
       "      <td>Near</td>\n",
       "      <td>Stationery</td>\n",
       "      <td>754.46</td>\n",
       "    </tr>\n",
       "  </tbody>\n",
       "</table>\n",
       "</div>"
      ],
      "text/plain": [
       "   order_id  customer_id  product_id  order_date  amount         name  \\\n",
       "0     10001           39        1015  2023-08-15  497.49      Kristen   \n",
       "1     10008           33        1015  2024-10-22  350.77        Jared   \n",
       "2     10045           33        1015  2023-04-30  385.34        Jared   \n",
       "3     10059           24        1015  2023-04-02  269.31  Christopher   \n",
       "4     10096           18        1015  2025-06-10  440.83       Travis   \n",
       "\n",
       "                       email   join_date product_name    category   price  \n",
       "0  jenniferpratt@hotmail.com  2022-04-21         Near  Stationery  754.46  \n",
       "1         austin98@gmail.com  2023-12-10         Near  Stationery  754.46  \n",
       "2         austin98@gmail.com  2023-12-10         Near  Stationery  754.46  \n",
       "3     barnesmichael@cole.com  2022-08-19         Near  Stationery  754.46  \n",
       "4           mjordan@snow.biz  2021-04-18         Near  Stationery  754.46  "
      ]
     },
     "execution_count": 73,
     "metadata": {},
     "output_type": "execute_result"
    }
   ],
   "source": [
    "step2.head(5)"
   ]
  },
  {
   "cell_type": "code",
   "execution_count": 74,
   "id": "aa128220",
   "metadata": {},
   "outputs": [
    {
     "data": {
      "text/plain": [
       "order_id        0\n",
       "customer_id     0\n",
       "product_id      0\n",
       "order_date      0\n",
       "amount          0\n",
       "name            0\n",
       "email           0\n",
       "join_date       0\n",
       "product_name    0\n",
       "category        0\n",
       "price           0\n",
       "dtype: int64"
      ]
     },
     "execution_count": 74,
     "metadata": {},
     "output_type": "execute_result"
    }
   ],
   "source": [
    "step2.isnull().sum()"
   ]
  },
  {
   "cell_type": "code",
   "execution_count": 75,
   "id": "aae21546",
   "metadata": {},
   "outputs": [],
   "source": [
    "#### 1.\tHow to list of All products, category and price."
   ]
  },
  {
   "cell_type": "code",
   "execution_count": 76,
   "id": "d9139747",
   "metadata": {},
   "outputs": [],
   "source": [
    "one = step2[[\"product_name\", \"category\", \"price\"]]"
   ]
  },
  {
   "cell_type": "code",
   "execution_count": 77,
   "id": "465f200c",
   "metadata": {},
   "outputs": [
    {
     "data": {
      "text/html": [
       "<div>\n",
       "<style scoped>\n",
       "    .dataframe tbody tr th:only-of-type {\n",
       "        vertical-align: middle;\n",
       "    }\n",
       "\n",
       "    .dataframe tbody tr th {\n",
       "        vertical-align: top;\n",
       "    }\n",
       "\n",
       "    .dataframe thead th {\n",
       "        text-align: right;\n",
       "    }\n",
       "</style>\n",
       "<table border=\"1\" class=\"dataframe\">\n",
       "  <thead>\n",
       "    <tr style=\"text-align: right;\">\n",
       "      <th></th>\n",
       "      <th>product_name</th>\n",
       "      <th>category</th>\n",
       "      <th>price</th>\n",
       "    </tr>\n",
       "  </thead>\n",
       "  <tbody>\n",
       "    <tr>\n",
       "      <th>0</th>\n",
       "      <td>Near</td>\n",
       "      <td>Stationery</td>\n",
       "      <td>754.46</td>\n",
       "    </tr>\n",
       "    <tr>\n",
       "      <th>1</th>\n",
       "      <td>Near</td>\n",
       "      <td>Stationery</td>\n",
       "      <td>754.46</td>\n",
       "    </tr>\n",
       "    <tr>\n",
       "      <th>2</th>\n",
       "      <td>Near</td>\n",
       "      <td>Stationery</td>\n",
       "      <td>754.46</td>\n",
       "    </tr>\n",
       "    <tr>\n",
       "      <th>3</th>\n",
       "      <td>Near</td>\n",
       "      <td>Stationery</td>\n",
       "      <td>754.46</td>\n",
       "    </tr>\n",
       "    <tr>\n",
       "      <th>4</th>\n",
       "      <td>Near</td>\n",
       "      <td>Stationery</td>\n",
       "      <td>754.46</td>\n",
       "    </tr>\n",
       "  </tbody>\n",
       "</table>\n",
       "</div>"
      ],
      "text/plain": [
       "  product_name    category   price\n",
       "0         Near  Stationery  754.46\n",
       "1         Near  Stationery  754.46\n",
       "2         Near  Stationery  754.46\n",
       "3         Near  Stationery  754.46\n",
       "4         Near  Stationery  754.46"
      ]
     },
     "execution_count": 77,
     "metadata": {},
     "output_type": "execute_result"
    }
   ],
   "source": [
    "one.head(5)"
   ]
  },
  {
   "cell_type": "code",
   "execution_count": 78,
   "id": "831ca8cb",
   "metadata": {},
   "outputs": [
    {
     "data": {
      "text/html": [
       "<div>\n",
       "<style scoped>\n",
       "    .dataframe tbody tr th:only-of-type {\n",
       "        vertical-align: middle;\n",
       "    }\n",
       "\n",
       "    .dataframe tbody tr th {\n",
       "        vertical-align: top;\n",
       "    }\n",
       "\n",
       "    .dataframe thead th {\n",
       "        text-align: right;\n",
       "    }\n",
       "</style>\n",
       "<table border=\"1\" class=\"dataframe\">\n",
       "  <thead>\n",
       "    <tr style=\"text-align: right;\">\n",
       "      <th></th>\n",
       "      <th>order_id</th>\n",
       "      <th>customer_id</th>\n",
       "      <th>product_id</th>\n",
       "      <th>order_date</th>\n",
       "      <th>amount</th>\n",
       "      <th>name</th>\n",
       "      <th>email</th>\n",
       "      <th>join_date</th>\n",
       "      <th>product_name</th>\n",
       "      <th>category</th>\n",
       "      <th>price</th>\n",
       "    </tr>\n",
       "  </thead>\n",
       "  <tbody>\n",
       "    <tr>\n",
       "      <th>0</th>\n",
       "      <td>10001</td>\n",
       "      <td>39</td>\n",
       "      <td>1015</td>\n",
       "      <td>2023-08-15</td>\n",
       "      <td>497.49</td>\n",
       "      <td>Kristen</td>\n",
       "      <td>jenniferpratt@hotmail.com</td>\n",
       "      <td>2022-04-21</td>\n",
       "      <td>Near</td>\n",
       "      <td>Stationery</td>\n",
       "      <td>754.46</td>\n",
       "    </tr>\n",
       "  </tbody>\n",
       "</table>\n",
       "</div>"
      ],
      "text/plain": [
       "   order_id  customer_id  product_id  order_date  amount     name  \\\n",
       "0     10001           39        1015  2023-08-15  497.49  Kristen   \n",
       "\n",
       "                       email   join_date product_name    category   price  \n",
       "0  jenniferpratt@hotmail.com  2022-04-21         Near  Stationery  754.46  "
      ]
     },
     "execution_count": 78,
     "metadata": {},
     "output_type": "execute_result"
    }
   ],
   "source": [
    "step2.head(1)"
   ]
  },
  {
   "cell_type": "code",
   "execution_count": 79,
   "id": "79c75ef8",
   "metadata": {},
   "outputs": [],
   "source": [
    "### 2.\tHow to find the top 2 old customers."
   ]
  },
  {
   "cell_type": "code",
   "execution_count": 80,
   "id": "ae6842b2",
   "metadata": {},
   "outputs": [],
   "source": [
    "  \n",
    "pd.to_datetime(step2[\"join_date\"])  \n",
    "oldest_customers = step2.sort_values(by=\"join_date\").head(2)\n"
   ]
  },
  {
   "cell_type": "code",
   "execution_count": 81,
   "id": "ba3ff70d",
   "metadata": {},
   "outputs": [
    {
     "data": {
      "text/html": [
       "<div>\n",
       "<style scoped>\n",
       "    .dataframe tbody tr th:only-of-type {\n",
       "        vertical-align: middle;\n",
       "    }\n",
       "\n",
       "    .dataframe tbody tr th {\n",
       "        vertical-align: top;\n",
       "    }\n",
       "\n",
       "    .dataframe thead th {\n",
       "        text-align: right;\n",
       "    }\n",
       "</style>\n",
       "<table border=\"1\" class=\"dataframe\">\n",
       "  <thead>\n",
       "    <tr style=\"text-align: right;\">\n",
       "      <th></th>\n",
       "      <th>order_id</th>\n",
       "      <th>customer_id</th>\n",
       "      <th>product_id</th>\n",
       "      <th>order_date</th>\n",
       "      <th>amount</th>\n",
       "      <th>name</th>\n",
       "      <th>email</th>\n",
       "      <th>join_date</th>\n",
       "      <th>product_name</th>\n",
       "      <th>category</th>\n",
       "      <th>price</th>\n",
       "    </tr>\n",
       "  </thead>\n",
       "  <tbody>\n",
       "    <tr>\n",
       "      <th>47</th>\n",
       "      <td>10019</td>\n",
       "      <td>30</td>\n",
       "      <td>1027</td>\n",
       "      <td>2024-04-22</td>\n",
       "      <td>316.66</td>\n",
       "      <td>Kelly</td>\n",
       "      <td>valerie91@hotmail.com</td>\n",
       "      <td>2020-07-22</td>\n",
       "      <td>Main</td>\n",
       "      <td>Stationery</td>\n",
       "      <td>920.95</td>\n",
       "    </tr>\n",
       "    <tr>\n",
       "      <th>11</th>\n",
       "      <td>10090</td>\n",
       "      <td>30</td>\n",
       "      <td>1037</td>\n",
       "      <td>2022-11-28</td>\n",
       "      <td>175.03</td>\n",
       "      <td>Kelly</td>\n",
       "      <td>valerie91@hotmail.com</td>\n",
       "      <td>2020-07-22</td>\n",
       "      <td>Dog</td>\n",
       "      <td>Stationery</td>\n",
       "      <td>51.40</td>\n",
       "    </tr>\n",
       "  </tbody>\n",
       "</table>\n",
       "</div>"
      ],
      "text/plain": [
       "    order_id  customer_id  product_id  order_date  amount   name  \\\n",
       "47     10019           30        1027  2024-04-22  316.66  Kelly   \n",
       "11     10090           30        1037  2022-11-28  175.03  Kelly   \n",
       "\n",
       "                    email   join_date product_name    category   price  \n",
       "47  valerie91@hotmail.com  2020-07-22         Main  Stationery  920.95  \n",
       "11  valerie91@hotmail.com  2020-07-22          Dog  Stationery   51.40  "
      ]
     },
     "execution_count": 81,
     "metadata": {},
     "output_type": "execute_result"
    }
   ],
   "source": [
    "oldest_customers"
   ]
  },
  {
   "cell_type": "code",
   "execution_count": 82,
   "id": "8369cf87",
   "metadata": {},
   "outputs": [],
   "source": [
    "### 3.\tHow to find the top 5 customers by total purchase amount."
   ]
  },
  {
   "cell_type": "code",
   "execution_count": 83,
   "id": "21a828e3",
   "metadata": {},
   "outputs": [
    {
     "data": {
      "text/html": [
       "<div>\n",
       "<style scoped>\n",
       "    .dataframe tbody tr th:only-of-type {\n",
       "        vertical-align: middle;\n",
       "    }\n",
       "\n",
       "    .dataframe tbody tr th {\n",
       "        vertical-align: top;\n",
       "    }\n",
       "\n",
       "    .dataframe thead th {\n",
       "        text-align: right;\n",
       "    }\n",
       "</style>\n",
       "<table border=\"1\" class=\"dataframe\">\n",
       "  <thead>\n",
       "    <tr style=\"text-align: right;\">\n",
       "      <th></th>\n",
       "      <th>order_id</th>\n",
       "      <th>customer_id</th>\n",
       "      <th>product_id</th>\n",
       "      <th>order_date</th>\n",
       "      <th>amount</th>\n",
       "      <th>name</th>\n",
       "      <th>email</th>\n",
       "      <th>join_date</th>\n",
       "      <th>product_name</th>\n",
       "      <th>category</th>\n",
       "      <th>price</th>\n",
       "    </tr>\n",
       "  </thead>\n",
       "  <tbody>\n",
       "    <tr>\n",
       "      <th>0</th>\n",
       "      <td>10001</td>\n",
       "      <td>39</td>\n",
       "      <td>1015</td>\n",
       "      <td>2023-08-15</td>\n",
       "      <td>497.49</td>\n",
       "      <td>Kristen</td>\n",
       "      <td>jenniferpratt@hotmail.com</td>\n",
       "      <td>2022-04-21</td>\n",
       "      <td>Near</td>\n",
       "      <td>Stationery</td>\n",
       "      <td>754.46</td>\n",
       "    </tr>\n",
       "  </tbody>\n",
       "</table>\n",
       "</div>"
      ],
      "text/plain": [
       "   order_id  customer_id  product_id  order_date  amount     name  \\\n",
       "0     10001           39        1015  2023-08-15  497.49  Kristen   \n",
       "\n",
       "                       email   join_date product_name    category   price  \n",
       "0  jenniferpratt@hotmail.com  2022-04-21         Near  Stationery  754.46  "
      ]
     },
     "execution_count": 83,
     "metadata": {},
     "output_type": "execute_result"
    }
   ],
   "source": [
    "step2.head(1)"
   ]
  },
  {
   "cell_type": "code",
   "execution_count": 84,
   "id": "d2a3069f",
   "metadata": {},
   "outputs": [
    {
     "data": {
      "text/plain": [
       "name\n",
       "Kristen      1849.78\n",
       "Ashlee       1420.57\n",
       "Gina         1407.62\n",
       "Jamie        1374.69\n",
       "Stephanie    1361.19\n",
       "Name: amount, dtype: float64"
      ]
     },
     "execution_count": 84,
     "metadata": {},
     "output_type": "execute_result"
    }
   ],
   "source": [
    "step2.groupby('name')['amount'].sum().sort_values(ascending=False).head(5)"
   ]
  },
  {
   "cell_type": "code",
   "execution_count": 85,
   "id": "b9577276",
   "metadata": {},
   "outputs": [],
   "source": [
    "### 4.\tHow to identify products that have never been ordered."
   ]
  },
  {
   "cell_type": "code",
   "execution_count": 86,
   "id": "66477eed",
   "metadata": {},
   "outputs": [
    {
     "data": {
      "text/plain": [
       "product_name  order_id\n",
       "Accept        10063       1\n",
       "Science       10030       1\n",
       "Resource      10011       1\n",
       "              10041       1\n",
       "              10043       1\n",
       "                         ..\n",
       "Discuss       10089       1\n",
       "              10091       1\n",
       "              10010       1\n",
       "Ever          10005       1\n",
       "Yard          10083       1\n",
       "Name: count, Length: 100, dtype: int64"
      ]
     },
     "execution_count": 86,
     "metadata": {},
     "output_type": "execute_result"
    }
   ],
   "source": [
    "step2.groupby('product_name')['order_id'].value_counts().sort_values(ascending=True)"
   ]
  },
  {
   "cell_type": "code",
   "execution_count": 87,
   "id": "2ad4ceb9",
   "metadata": {},
   "outputs": [
    {
     "data": {
      "text/plain": [
       "0"
      ]
     },
     "execution_count": 87,
     "metadata": {},
     "output_type": "execute_result"
    }
   ],
   "source": [
    "step2[\"order_id\"].isna().sum()"
   ]
  },
  {
   "cell_type": "code",
   "execution_count": 88,
   "id": "f95ccbb0",
   "metadata": {},
   "outputs": [
    {
     "data": {
      "text/html": [
       "<div>\n",
       "<style scoped>\n",
       "    .dataframe tbody tr th:only-of-type {\n",
       "        vertical-align: middle;\n",
       "    }\n",
       "\n",
       "    .dataframe tbody tr th {\n",
       "        vertical-align: top;\n",
       "    }\n",
       "\n",
       "    .dataframe thead th {\n",
       "        text-align: right;\n",
       "    }\n",
       "</style>\n",
       "<table border=\"1\" class=\"dataframe\">\n",
       "  <thead>\n",
       "    <tr style=\"text-align: right;\">\n",
       "      <th></th>\n",
       "      <th>order_id</th>\n",
       "      <th>product_name</th>\n",
       "    </tr>\n",
       "  </thead>\n",
       "  <tbody>\n",
       "    <tr>\n",
       "      <th>0</th>\n",
       "      <td>10001</td>\n",
       "      <td>Near</td>\n",
       "    </tr>\n",
       "    <tr>\n",
       "      <th>1</th>\n",
       "      <td>10008</td>\n",
       "      <td>Near</td>\n",
       "    </tr>\n",
       "    <tr>\n",
       "      <th>2</th>\n",
       "      <td>10045</td>\n",
       "      <td>Near</td>\n",
       "    </tr>\n",
       "    <tr>\n",
       "      <th>3</th>\n",
       "      <td>10059</td>\n",
       "      <td>Near</td>\n",
       "    </tr>\n",
       "    <tr>\n",
       "      <th>4</th>\n",
       "      <td>10096</td>\n",
       "      <td>Near</td>\n",
       "    </tr>\n",
       "    <tr>\n",
       "      <th>...</th>\n",
       "      <td>...</td>\n",
       "      <td>...</td>\n",
       "    </tr>\n",
       "    <tr>\n",
       "      <th>95</th>\n",
       "      <td>10080</td>\n",
       "      <td>Site</td>\n",
       "    </tr>\n",
       "    <tr>\n",
       "      <th>96</th>\n",
       "      <td>10068</td>\n",
       "      <td>Sport</td>\n",
       "    </tr>\n",
       "    <tr>\n",
       "      <th>97</th>\n",
       "      <td>10070</td>\n",
       "      <td>East</td>\n",
       "    </tr>\n",
       "    <tr>\n",
       "      <th>98</th>\n",
       "      <td>10085</td>\n",
       "      <td>Our</td>\n",
       "    </tr>\n",
       "    <tr>\n",
       "      <th>99</th>\n",
       "      <td>10099</td>\n",
       "      <td>Require</td>\n",
       "    </tr>\n",
       "  </tbody>\n",
       "</table>\n",
       "<p>100 rows × 2 columns</p>\n",
       "</div>"
      ],
      "text/plain": [
       "    order_id product_name\n",
       "0      10001         Near\n",
       "1      10008         Near\n",
       "2      10045         Near\n",
       "3      10059         Near\n",
       "4      10096         Near\n",
       "..       ...          ...\n",
       "95     10080         Site\n",
       "96     10068        Sport\n",
       "97     10070         East\n",
       "98     10085          Our\n",
       "99     10099      Require\n",
       "\n",
       "[100 rows x 2 columns]"
      ]
     },
     "execution_count": 88,
     "metadata": {},
     "output_type": "execute_result"
    }
   ],
   "source": [
    "step2[['order_id', 'product_name']]"
   ]
  },
  {
   "cell_type": "code",
   "execution_count": 89,
   "id": "35362a2f",
   "metadata": {},
   "outputs": [],
   "source": [
    "### 5.\tHow to identify products that have maximum ordered."
   ]
  },
  {
   "cell_type": "code",
   "execution_count": 93,
   "id": "58e88925",
   "metadata": {},
   "outputs": [
    {
     "data": {
      "text/html": [
       "<div>\n",
       "<style scoped>\n",
       "    .dataframe tbody tr th:only-of-type {\n",
       "        vertical-align: middle;\n",
       "    }\n",
       "\n",
       "    .dataframe tbody tr th {\n",
       "        vertical-align: top;\n",
       "    }\n",
       "\n",
       "    .dataframe thead th {\n",
       "        text-align: right;\n",
       "    }\n",
       "</style>\n",
       "<table border=\"1\" class=\"dataframe\">\n",
       "  <thead>\n",
       "    <tr style=\"text-align: right;\">\n",
       "      <th></th>\n",
       "      <th>order_id</th>\n",
       "      <th>customer_id</th>\n",
       "      <th>product_id</th>\n",
       "      <th>order_date</th>\n",
       "      <th>amount</th>\n",
       "      <th>name</th>\n",
       "      <th>email</th>\n",
       "      <th>join_date</th>\n",
       "      <th>product_name</th>\n",
       "      <th>category</th>\n",
       "      <th>price</th>\n",
       "    </tr>\n",
       "  </thead>\n",
       "  <tbody>\n",
       "    <tr>\n",
       "      <th>0</th>\n",
       "      <td>10001</td>\n",
       "      <td>39</td>\n",
       "      <td>1015</td>\n",
       "      <td>2023-08-15</td>\n",
       "      <td>497.49</td>\n",
       "      <td>Kristen</td>\n",
       "      <td>jenniferpratt@hotmail.com</td>\n",
       "      <td>2022-04-21</td>\n",
       "      <td>Near</td>\n",
       "      <td>Stationery</td>\n",
       "      <td>754.46</td>\n",
       "    </tr>\n",
       "    <tr>\n",
       "      <th>1</th>\n",
       "      <td>10008</td>\n",
       "      <td>33</td>\n",
       "      <td>1015</td>\n",
       "      <td>2024-10-22</td>\n",
       "      <td>350.77</td>\n",
       "      <td>Jared</td>\n",
       "      <td>austin98@gmail.com</td>\n",
       "      <td>2023-12-10</td>\n",
       "      <td>Near</td>\n",
       "      <td>Stationery</td>\n",
       "      <td>754.46</td>\n",
       "    </tr>\n",
       "    <tr>\n",
       "      <th>2</th>\n",
       "      <td>10045</td>\n",
       "      <td>33</td>\n",
       "      <td>1015</td>\n",
       "      <td>2023-04-30</td>\n",
       "      <td>385.34</td>\n",
       "      <td>Jared</td>\n",
       "      <td>austin98@gmail.com</td>\n",
       "      <td>2023-12-10</td>\n",
       "      <td>Near</td>\n",
       "      <td>Stationery</td>\n",
       "      <td>754.46</td>\n",
       "    </tr>\n",
       "    <tr>\n",
       "      <th>3</th>\n",
       "      <td>10059</td>\n",
       "      <td>24</td>\n",
       "      <td>1015</td>\n",
       "      <td>2023-04-02</td>\n",
       "      <td>269.31</td>\n",
       "      <td>Christopher</td>\n",
       "      <td>barnesmichael@cole.com</td>\n",
       "      <td>2022-08-19</td>\n",
       "      <td>Near</td>\n",
       "      <td>Stationery</td>\n",
       "      <td>754.46</td>\n",
       "    </tr>\n",
       "  </tbody>\n",
       "</table>\n",
       "</div>"
      ],
      "text/plain": [
       "   order_id  customer_id  product_id  order_date  amount         name  \\\n",
       "0     10001           39        1015  2023-08-15  497.49      Kristen   \n",
       "1     10008           33        1015  2024-10-22  350.77        Jared   \n",
       "2     10045           33        1015  2023-04-30  385.34        Jared   \n",
       "3     10059           24        1015  2023-04-02  269.31  Christopher   \n",
       "\n",
       "                       email   join_date product_name    category   price  \n",
       "0  jenniferpratt@hotmail.com  2022-04-21         Near  Stationery  754.46  \n",
       "1         austin98@gmail.com  2023-12-10         Near  Stationery  754.46  \n",
       "2         austin98@gmail.com  2023-12-10         Near  Stationery  754.46  \n",
       "3     barnesmichael@cole.com  2022-08-19         Near  Stationery  754.46  "
      ]
     },
     "execution_count": 93,
     "metadata": {},
     "output_type": "execute_result"
    }
   ],
   "source": [
    "step2.head(4)"
   ]
  },
  {
   "cell_type": "code",
   "execution_count": 97,
   "id": "911e0e1e",
   "metadata": {},
   "outputs": [
    {
     "data": {
      "text/plain": [
       "product_name\n",
       "Black      6\n",
       "Near       5\n",
       "Central    5\n",
       "Discuss    4\n",
       "Region     4\n",
       "Name: count, dtype: int64"
      ]
     },
     "execution_count": 97,
     "metadata": {},
     "output_type": "execute_result"
    }
   ],
   "source": [
    "step2.groupby('order_id')['product_name'].sum().value_counts().head(5)"
   ]
  },
  {
   "cell_type": "markdown",
   "id": "7519bb95",
   "metadata": {},
   "source": [
    "## Done"
   ]
  },
  {
   "cell_type": "markdown",
   "id": "57321ea9",
   "metadata": {},
   "source": []
  }
 ],
 "metadata": {
  "kernelspec": {
   "display_name": "base",
   "language": "python",
   "name": "python3"
  },
  "language_info": {
   "codemirror_mode": {
    "name": "ipython",
    "version": 3
   },
   "file_extension": ".py",
   "mimetype": "text/x-python",
   "name": "python",
   "nbconvert_exporter": "python",
   "pygments_lexer": "ipython3",
   "version": "3.11.5"
  }
 },
 "nbformat": 4,
 "nbformat_minor": 5
}
