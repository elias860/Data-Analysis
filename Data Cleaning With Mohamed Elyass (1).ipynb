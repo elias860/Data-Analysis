{
 "cells": [
  {
   "cell_type": "markdown",
   "metadata": {},
   "source": [
    "# Data cleaning Project 1"
   ]
  },
  {
   "cell_type": "markdown",
   "metadata": {},
   "source": [
    "Prepared by:\n",
    " \n",
    "Name: Mohamed Elyass Mohamed Ahmed\n",
    "\n",
    "Passport: P06382503"
   ]
  },
  {
   "cell_type": "markdown",
   "metadata": {},
   "source": [
    "## Will do:"
   ]
  },
  {
   "cell_type": "markdown",
   "metadata": {},
   "source": [
    "1- Full data cleaning.\n",
    "\n",
    "\n"
   ]
  },
  {
   "cell_type": "markdown",
   "metadata": {},
   "source": [
    "Deleting redundant columns.\n",
    "\n",
    "Renaming the columns.\n",
    "\n",
    "Dropping duplicates.\n",
    "\n",
    "Cleaning individual columns.\n",
    "\n",
    "Remove the NaN values from the dataset\n",
    "\n",
    "Check for some more Transformations\n"
   ]
  },
  {
   "cell_type": "code",
   "execution_count": 3,
   "metadata": {},
   "outputs": [],
   "source": [
    "import numpy as np\n",
    "import pandas as pd  \n",
    "import matplotlib.pyplot as plt   \n",
    "import seaborn as sns  "
   ]
  },
  {
   "cell_type": "code",
   "execution_count": 4,
   "metadata": {},
   "outputs": [],
   "source": [
    "df0 = pd.read_csv(r'C:\\Users\\HP\\Downloads\\archive (5).zip')"
   ]
  },
  {
   "cell_type": "code",
   "execution_count": 5,
   "metadata": {},
   "outputs": [
    {
     "data": {
      "text/html": [
       "<div>\n",
       "<style scoped>\n",
       "    .dataframe tbody tr th:only-of-type {\n",
       "        vertical-align: middle;\n",
       "    }\n",
       "\n",
       "    .dataframe tbody tr th {\n",
       "        vertical-align: top;\n",
       "    }\n",
       "\n",
       "    .dataframe thead th {\n",
       "        text-align: right;\n",
       "    }\n",
       "</style>\n",
       "<table border=\"1\" class=\"dataframe\">\n",
       "  <thead>\n",
       "    <tr style=\"text-align: right;\">\n",
       "      <th></th>\n",
       "      <th>Unnamed: 0</th>\n",
       "      <th>asin</th>\n",
       "      <th>product_title</th>\n",
       "      <th>product_price</th>\n",
       "      <th>product_original_price</th>\n",
       "      <th>currency</th>\n",
       "      <th>product_star_rating</th>\n",
       "      <th>product_num_ratings</th>\n",
       "      <th>product_url</th>\n",
       "      <th>product_photo</th>\n",
       "      <th>...</th>\n",
       "      <th>is_best_seller</th>\n",
       "      <th>is_amazon_choice</th>\n",
       "      <th>is_prime</th>\n",
       "      <th>climate_pledge_friendly</th>\n",
       "      <th>sales_volume</th>\n",
       "      <th>delivery</th>\n",
       "      <th>has_variations</th>\n",
       "      <th>product_availability</th>\n",
       "      <th>unit_price</th>\n",
       "      <th>unit_count</th>\n",
       "    </tr>\n",
       "  </thead>\n",
       "  <tbody>\n",
       "    <tr>\n",
       "      <th>0</th>\n",
       "      <td>0</td>\n",
       "      <td>B0BQ118F2T</td>\n",
       "      <td>Moto G Play 2023 3-Day Battery Unlocked Made f...</td>\n",
       "      <td>$99.99</td>\n",
       "      <td>$169.99</td>\n",
       "      <td>USD</td>\n",
       "      <td>4.0</td>\n",
       "      <td>2929</td>\n",
       "      <td>https://www.amazon.com/dp/B0BQ118F2T</td>\n",
       "      <td>https://m.media-amazon.com/images/I/61K1Fz5Lxv...</td>\n",
       "      <td>...</td>\n",
       "      <td>False</td>\n",
       "      <td>False</td>\n",
       "      <td>True</td>\n",
       "      <td>False</td>\n",
       "      <td>6K+ bought in past month</td>\n",
       "      <td>FREE delivery Tue, Aug 6</td>\n",
       "      <td>True</td>\n",
       "      <td>NaN</td>\n",
       "      <td>NaN</td>\n",
       "      <td>NaN</td>\n",
       "    </tr>\n",
       "    <tr>\n",
       "      <th>1</th>\n",
       "      <td>1</td>\n",
       "      <td>B0CTD47P22</td>\n",
       "      <td>SAMSUNG Galaxy A15 5G (SM-156M/DSN), 128GB 6GB...</td>\n",
       "      <td>$149.74</td>\n",
       "      <td>$158.00</td>\n",
       "      <td>USD</td>\n",
       "      <td>4.2</td>\n",
       "      <td>135</td>\n",
       "      <td>https://www.amazon.com/dp/B0CTD47P22</td>\n",
       "      <td>https://m.media-amazon.com/images/I/51QhB2CfqS...</td>\n",
       "      <td>...</td>\n",
       "      <td>False</td>\n",
       "      <td>False</td>\n",
       "      <td>True</td>\n",
       "      <td>False</td>\n",
       "      <td>3K+ bought in past month</td>\n",
       "      <td>FREE delivery Wed, Aug 7 Only 7 left in stock ...</td>\n",
       "      <td>False</td>\n",
       "      <td>Only 7 left in stock - order soon.</td>\n",
       "      <td>NaN</td>\n",
       "      <td>NaN</td>\n",
       "    </tr>\n",
       "    <tr>\n",
       "      <th>2</th>\n",
       "      <td>2</td>\n",
       "      <td>B0CHH6X6H2</td>\n",
       "      <td>Total by Verizon | Samsung Galaxy A03s | Locke...</td>\n",
       "      <td>$49.88</td>\n",
       "      <td>NaN</td>\n",
       "      <td>USD</td>\n",
       "      <td>3.9</td>\n",
       "      <td>205</td>\n",
       "      <td>https://www.amazon.com/dp/B0CHH6X6H2</td>\n",
       "      <td>https://m.media-amazon.com/images/I/812woqv69C...</td>\n",
       "      <td>...</td>\n",
       "      <td>False</td>\n",
       "      <td>False</td>\n",
       "      <td>True</td>\n",
       "      <td>False</td>\n",
       "      <td>2K+ bought in past month</td>\n",
       "      <td>FREE delivery Tue, Aug 6</td>\n",
       "      <td>False</td>\n",
       "      <td>NaN</td>\n",
       "      <td>NaN</td>\n",
       "      <td>NaN</td>\n",
       "    </tr>\n",
       "    <tr>\n",
       "      <th>3</th>\n",
       "      <td>3</td>\n",
       "      <td>B0BZ9XNBRB</td>\n",
       "      <td>Google Pixel 7a - Unlocked Android Cell Phone ...</td>\n",
       "      <td>$335.00</td>\n",
       "      <td>$499.00</td>\n",
       "      <td>USD</td>\n",
       "      <td>4.3</td>\n",
       "      <td>2248</td>\n",
       "      <td>https://www.amazon.com/dp/B0BZ9XNBRB</td>\n",
       "      <td>https://m.media-amazon.com/images/I/61r7cCpQPl...</td>\n",
       "      <td>...</td>\n",
       "      <td>False</td>\n",
       "      <td>False</td>\n",
       "      <td>False</td>\n",
       "      <td>False</td>\n",
       "      <td>10K+ bought in past month</td>\n",
       "      <td>FREE delivery Aug 6 - 8</td>\n",
       "      <td>True</td>\n",
       "      <td>NaN</td>\n",
       "      <td>NaN</td>\n",
       "      <td>NaN</td>\n",
       "    </tr>\n",
       "    <tr>\n",
       "      <th>4</th>\n",
       "      <td>4</td>\n",
       "      <td>B0CN1QSH8Q</td>\n",
       "      <td>SAMSUNG Galaxy A15 5G A Series Cell Phone, 128...</td>\n",
       "      <td>$199.99</td>\n",
       "      <td>NaN</td>\n",
       "      <td>USD</td>\n",
       "      <td>4.1</td>\n",
       "      <td>423</td>\n",
       "      <td>https://www.amazon.com/dp/B0CN1QSH8Q</td>\n",
       "      <td>https://m.media-amazon.com/images/I/61s0ZzwzSC...</td>\n",
       "      <td>...</td>\n",
       "      <td>False</td>\n",
       "      <td>False</td>\n",
       "      <td>True</td>\n",
       "      <td>True</td>\n",
       "      <td>3K+ bought in past month</td>\n",
       "      <td>FREE delivery Tue, Aug 6</td>\n",
       "      <td>True</td>\n",
       "      <td>NaN</td>\n",
       "      <td>NaN</td>\n",
       "      <td>NaN</td>\n",
       "    </tr>\n",
       "  </tbody>\n",
       "</table>\n",
       "<p>5 rows × 22 columns</p>\n",
       "</div>"
      ],
      "text/plain": [
       "   Unnamed: 0        asin                                      product_title  \\\n",
       "0           0  B0BQ118F2T  Moto G Play 2023 3-Day Battery Unlocked Made f...   \n",
       "1           1  B0CTD47P22  SAMSUNG Galaxy A15 5G (SM-156M/DSN), 128GB 6GB...   \n",
       "2           2  B0CHH6X6H2  Total by Verizon | Samsung Galaxy A03s | Locke...   \n",
       "3           3  B0BZ9XNBRB  Google Pixel 7a - Unlocked Android Cell Phone ...   \n",
       "4           4  B0CN1QSH8Q  SAMSUNG Galaxy A15 5G A Series Cell Phone, 128...   \n",
       "\n",
       "  product_price product_original_price currency  product_star_rating  \\\n",
       "0        $99.99                $169.99      USD                  4.0   \n",
       "1       $149.74                $158.00      USD                  4.2   \n",
       "2        $49.88                    NaN      USD                  3.9   \n",
       "3       $335.00                $499.00      USD                  4.3   \n",
       "4       $199.99                    NaN      USD                  4.1   \n",
       "\n",
       "   product_num_ratings                           product_url  \\\n",
       "0                 2929  https://www.amazon.com/dp/B0BQ118F2T   \n",
       "1                  135  https://www.amazon.com/dp/B0CTD47P22   \n",
       "2                  205  https://www.amazon.com/dp/B0CHH6X6H2   \n",
       "3                 2248  https://www.amazon.com/dp/B0BZ9XNBRB   \n",
       "4                  423  https://www.amazon.com/dp/B0CN1QSH8Q   \n",
       "\n",
       "                                       product_photo  ...  is_best_seller  \\\n",
       "0  https://m.media-amazon.com/images/I/61K1Fz5Lxv...  ...           False   \n",
       "1  https://m.media-amazon.com/images/I/51QhB2CfqS...  ...           False   \n",
       "2  https://m.media-amazon.com/images/I/812woqv69C...  ...           False   \n",
       "3  https://m.media-amazon.com/images/I/61r7cCpQPl...  ...           False   \n",
       "4  https://m.media-amazon.com/images/I/61s0ZzwzSC...  ...           False   \n",
       "\n",
       "  is_amazon_choice  is_prime  climate_pledge_friendly  \\\n",
       "0            False      True                    False   \n",
       "1            False      True                    False   \n",
       "2            False      True                    False   \n",
       "3            False     False                    False   \n",
       "4            False      True                     True   \n",
       "\n",
       "                sales_volume  \\\n",
       "0   6K+ bought in past month   \n",
       "1   3K+ bought in past month   \n",
       "2   2K+ bought in past month   \n",
       "3  10K+ bought in past month   \n",
       "4   3K+ bought in past month   \n",
       "\n",
       "                                            delivery has_variations  \\\n",
       "0                           FREE delivery Tue, Aug 6           True   \n",
       "1  FREE delivery Wed, Aug 7 Only 7 left in stock ...          False   \n",
       "2                           FREE delivery Tue, Aug 6          False   \n",
       "3                            FREE delivery Aug 6 - 8           True   \n",
       "4                           FREE delivery Tue, Aug 6           True   \n",
       "\n",
       "                 product_availability  unit_price unit_count  \n",
       "0                                 NaN         NaN        NaN  \n",
       "1  Only 7 left in stock - order soon.         NaN        NaN  \n",
       "2                                 NaN         NaN        NaN  \n",
       "3                                 NaN         NaN        NaN  \n",
       "4                                 NaN         NaN        NaN  \n",
       "\n",
       "[5 rows x 22 columns]"
      ]
     },
     "execution_count": 5,
     "metadata": {},
     "output_type": "execute_result"
    }
   ],
   "source": [
    "df0.head()"
   ]
  },
  {
   "cell_type": "code",
   "execution_count": 6,
   "metadata": {},
   "outputs": [
    {
     "data": {
      "text/plain": [
       "(64, 22)"
      ]
     },
     "execution_count": 6,
     "metadata": {},
     "output_type": "execute_result"
    }
   ],
   "source": [
    "df0.shape"
   ]
  },
  {
   "cell_type": "markdown",
   "metadata": {},
   "source": [
    "## Deleting redundant columns.\n"
   ]
  },
  {
   "cell_type": "code",
   "execution_count": 7,
   "metadata": {},
   "outputs": [
    {
     "data": {
      "text/plain": [
       "Index(['Unnamed: 0', 'asin', 'product_title', 'product_price',\n",
       "       'product_original_price', 'currency', 'product_star_rating',\n",
       "       'product_num_ratings', 'product_url', 'product_photo',\n",
       "       'product_num_offers', 'product_minimum_offer_price', 'is_best_seller',\n",
       "       'is_amazon_choice', 'is_prime', 'climate_pledge_friendly',\n",
       "       'sales_volume', 'delivery', 'has_variations', 'product_availability',\n",
       "       'unit_price', 'unit_count'],\n",
       "      dtype='object')"
      ]
     },
     "execution_count": 7,
     "metadata": {},
     "output_type": "execute_result"
    }
   ],
   "source": [
    "df0.columns"
   ]
  },
  {
   "cell_type": "code",
   "execution_count": 8,
   "metadata": {},
   "outputs": [],
   "source": [
    "columns_to_keep = ['asin', 'product_title', 'product_price',\n",
    "       'product_original_price', 'currency', 'product_star_rating',\n",
    "       'product_num_ratings', 'product_url', 'product_photo', 'product_minimum_offer_price', 'is_best_seller',\n",
    "       'is_amazon_choice', 'is_prime', 'climate_pledge_friendly',\n",
    "       'sales_volume', 'delivery', 'has_variations', 'product_availability',\n",
    "       'unit_price', 'unit_count']\n",
    "columns_to_drope = ['Unnamed: 0','product_num_offers']\n",
    "       "
   ]
  },
  {
   "cell_type": "code",
   "execution_count": 9,
   "metadata": {},
   "outputs": [],
   "source": [
    "df = df0[columns_to_keep]"
   ]
  },
  {
   "cell_type": "code",
   "execution_count": 10,
   "metadata": {},
   "outputs": [
    {
     "data": {
      "text/html": [
       "<div>\n",
       "<style scoped>\n",
       "    .dataframe tbody tr th:only-of-type {\n",
       "        vertical-align: middle;\n",
       "    }\n",
       "\n",
       "    .dataframe tbody tr th {\n",
       "        vertical-align: top;\n",
       "    }\n",
       "\n",
       "    .dataframe thead th {\n",
       "        text-align: right;\n",
       "    }\n",
       "</style>\n",
       "<table border=\"1\" class=\"dataframe\">\n",
       "  <thead>\n",
       "    <tr style=\"text-align: right;\">\n",
       "      <th></th>\n",
       "      <th>asin</th>\n",
       "      <th>product_title</th>\n",
       "      <th>product_price</th>\n",
       "      <th>product_original_price</th>\n",
       "      <th>currency</th>\n",
       "      <th>product_star_rating</th>\n",
       "      <th>product_num_ratings</th>\n",
       "      <th>product_url</th>\n",
       "      <th>product_photo</th>\n",
       "      <th>product_minimum_offer_price</th>\n",
       "      <th>is_best_seller</th>\n",
       "      <th>is_amazon_choice</th>\n",
       "      <th>is_prime</th>\n",
       "      <th>climate_pledge_friendly</th>\n",
       "      <th>sales_volume</th>\n",
       "      <th>delivery</th>\n",
       "      <th>has_variations</th>\n",
       "      <th>product_availability</th>\n",
       "      <th>unit_price</th>\n",
       "      <th>unit_count</th>\n",
       "    </tr>\n",
       "  </thead>\n",
       "  <tbody>\n",
       "    <tr>\n",
       "      <th>0</th>\n",
       "      <td>B0BQ118F2T</td>\n",
       "      <td>Moto G Play 2023 3-Day Battery Unlocked Made f...</td>\n",
       "      <td>$99.99</td>\n",
       "      <td>$169.99</td>\n",
       "      <td>USD</td>\n",
       "      <td>4.0</td>\n",
       "      <td>2929</td>\n",
       "      <td>https://www.amazon.com/dp/B0BQ118F2T</td>\n",
       "      <td>https://m.media-amazon.com/images/I/61K1Fz5Lxv...</td>\n",
       "      <td>$64.89</td>\n",
       "      <td>False</td>\n",
       "      <td>False</td>\n",
       "      <td>True</td>\n",
       "      <td>False</td>\n",
       "      <td>6K+ bought in past month</td>\n",
       "      <td>FREE delivery Tue, Aug 6</td>\n",
       "      <td>True</td>\n",
       "      <td>NaN</td>\n",
       "      <td>NaN</td>\n",
       "      <td>NaN</td>\n",
       "    </tr>\n",
       "    <tr>\n",
       "      <th>1</th>\n",
       "      <td>B0CTD47P22</td>\n",
       "      <td>SAMSUNG Galaxy A15 5G (SM-156M/DSN), 128GB 6GB...</td>\n",
       "      <td>$149.74</td>\n",
       "      <td>$158.00</td>\n",
       "      <td>USD</td>\n",
       "      <td>4.2</td>\n",
       "      <td>135</td>\n",
       "      <td>https://www.amazon.com/dp/B0CTD47P22</td>\n",
       "      <td>https://m.media-amazon.com/images/I/51QhB2CfqS...</td>\n",
       "      <td>$145.87</td>\n",
       "      <td>False</td>\n",
       "      <td>False</td>\n",
       "      <td>True</td>\n",
       "      <td>False</td>\n",
       "      <td>3K+ bought in past month</td>\n",
       "      <td>FREE delivery Wed, Aug 7 Only 7 left in stock ...</td>\n",
       "      <td>False</td>\n",
       "      <td>Only 7 left in stock - order soon.</td>\n",
       "      <td>NaN</td>\n",
       "      <td>NaN</td>\n",
       "    </tr>\n",
       "  </tbody>\n",
       "</table>\n",
       "</div>"
      ],
      "text/plain": [
       "         asin                                      product_title  \\\n",
       "0  B0BQ118F2T  Moto G Play 2023 3-Day Battery Unlocked Made f...   \n",
       "1  B0CTD47P22  SAMSUNG Galaxy A15 5G (SM-156M/DSN), 128GB 6GB...   \n",
       "\n",
       "  product_price product_original_price currency  product_star_rating  \\\n",
       "0        $99.99                $169.99      USD                  4.0   \n",
       "1       $149.74                $158.00      USD                  4.2   \n",
       "\n",
       "   product_num_ratings                           product_url  \\\n",
       "0                 2929  https://www.amazon.com/dp/B0BQ118F2T   \n",
       "1                  135  https://www.amazon.com/dp/B0CTD47P22   \n",
       "\n",
       "                                       product_photo  \\\n",
       "0  https://m.media-amazon.com/images/I/61K1Fz5Lxv...   \n",
       "1  https://m.media-amazon.com/images/I/51QhB2CfqS...   \n",
       "\n",
       "  product_minimum_offer_price  is_best_seller  is_amazon_choice  is_prime  \\\n",
       "0                      $64.89           False             False      True   \n",
       "1                     $145.87           False             False      True   \n",
       "\n",
       "   climate_pledge_friendly              sales_volume  \\\n",
       "0                    False  6K+ bought in past month   \n",
       "1                    False  3K+ bought in past month   \n",
       "\n",
       "                                            delivery  has_variations  \\\n",
       "0                           FREE delivery Tue, Aug 6            True   \n",
       "1  FREE delivery Wed, Aug 7 Only 7 left in stock ...           False   \n",
       "\n",
       "                 product_availability unit_price  unit_count  \n",
       "0                                 NaN        NaN         NaN  \n",
       "1  Only 7 left in stock - order soon.        NaN         NaN  "
      ]
     },
     "execution_count": 10,
     "metadata": {},
     "output_type": "execute_result"
    }
   ],
   "source": [
    "df.head(2)"
   ]
  },
  {
   "cell_type": "markdown",
   "metadata": {},
   "source": [
    "## Renaming the columns."
   ]
  },
  {
   "cell_type": "code",
   "execution_count": 11,
   "metadata": {},
   "outputs": [
    {
     "name": "stderr",
     "output_type": "stream",
     "text": [
      "C:\\Users\\HP\\AppData\\Local\\Temp\\ipykernel_12036\\3690433774.py:1: SettingWithCopyWarning: \n",
      "A value is trying to be set on a copy of a slice from a DataFrame\n",
      "\n",
      "See the caveats in the documentation: https://pandas.pydata.org/pandas-docs/stable/user_guide/indexing.html#returning-a-view-versus-a-copy\n",
      "  df.rename(columns = {'product_original_price': 'original_price', 'product_star_rating': 'star_rating', 'product_minimum_offer_price': 'minimum_oprice'}, inplace=True)\n"
     ]
    }
   ],
   "source": [
    "df.rename(columns = {'product_original_price': 'original_price', 'product_star_rating': 'star_rating', 'product_minimum_offer_price': 'minimum_oprice'}, inplace=True)"
   ]
  },
  {
   "cell_type": "code",
   "execution_count": 12,
   "metadata": {},
   "outputs": [
    {
     "data": {
      "text/html": [
       "<div>\n",
       "<style scoped>\n",
       "    .dataframe tbody tr th:only-of-type {\n",
       "        vertical-align: middle;\n",
       "    }\n",
       "\n",
       "    .dataframe tbody tr th {\n",
       "        vertical-align: top;\n",
       "    }\n",
       "\n",
       "    .dataframe thead th {\n",
       "        text-align: right;\n",
       "    }\n",
       "</style>\n",
       "<table border=\"1\" class=\"dataframe\">\n",
       "  <thead>\n",
       "    <tr style=\"text-align: right;\">\n",
       "      <th></th>\n",
       "      <th>asin</th>\n",
       "      <th>product_title</th>\n",
       "      <th>product_price</th>\n",
       "      <th>original_price</th>\n",
       "      <th>currency</th>\n",
       "      <th>star_rating</th>\n",
       "      <th>product_num_ratings</th>\n",
       "      <th>product_url</th>\n",
       "      <th>product_photo</th>\n",
       "      <th>minimum_oprice</th>\n",
       "      <th>is_best_seller</th>\n",
       "      <th>is_amazon_choice</th>\n",
       "      <th>is_prime</th>\n",
       "      <th>climate_pledge_friendly</th>\n",
       "      <th>sales_volume</th>\n",
       "      <th>delivery</th>\n",
       "      <th>has_variations</th>\n",
       "      <th>product_availability</th>\n",
       "      <th>unit_price</th>\n",
       "      <th>unit_count</th>\n",
       "    </tr>\n",
       "  </thead>\n",
       "  <tbody>\n",
       "    <tr>\n",
       "      <th>0</th>\n",
       "      <td>B0BQ118F2T</td>\n",
       "      <td>Moto G Play 2023 3-Day Battery Unlocked Made f...</td>\n",
       "      <td>$99.99</td>\n",
       "      <td>$169.99</td>\n",
       "      <td>USD</td>\n",
       "      <td>4.0</td>\n",
       "      <td>2929</td>\n",
       "      <td>https://www.amazon.com/dp/B0BQ118F2T</td>\n",
       "      <td>https://m.media-amazon.com/images/I/61K1Fz5Lxv...</td>\n",
       "      <td>$64.89</td>\n",
       "      <td>False</td>\n",
       "      <td>False</td>\n",
       "      <td>True</td>\n",
       "      <td>False</td>\n",
       "      <td>6K+ bought in past month</td>\n",
       "      <td>FREE delivery Tue, Aug 6</td>\n",
       "      <td>True</td>\n",
       "      <td>NaN</td>\n",
       "      <td>NaN</td>\n",
       "      <td>NaN</td>\n",
       "    </tr>\n",
       "    <tr>\n",
       "      <th>1</th>\n",
       "      <td>B0CTD47P22</td>\n",
       "      <td>SAMSUNG Galaxy A15 5G (SM-156M/DSN), 128GB 6GB...</td>\n",
       "      <td>$149.74</td>\n",
       "      <td>$158.00</td>\n",
       "      <td>USD</td>\n",
       "      <td>4.2</td>\n",
       "      <td>135</td>\n",
       "      <td>https://www.amazon.com/dp/B0CTD47P22</td>\n",
       "      <td>https://m.media-amazon.com/images/I/51QhB2CfqS...</td>\n",
       "      <td>$145.87</td>\n",
       "      <td>False</td>\n",
       "      <td>False</td>\n",
       "      <td>True</td>\n",
       "      <td>False</td>\n",
       "      <td>3K+ bought in past month</td>\n",
       "      <td>FREE delivery Wed, Aug 7 Only 7 left in stock ...</td>\n",
       "      <td>False</td>\n",
       "      <td>Only 7 left in stock - order soon.</td>\n",
       "      <td>NaN</td>\n",
       "      <td>NaN</td>\n",
       "    </tr>\n",
       "  </tbody>\n",
       "</table>\n",
       "</div>"
      ],
      "text/plain": [
       "         asin                                      product_title  \\\n",
       "0  B0BQ118F2T  Moto G Play 2023 3-Day Battery Unlocked Made f...   \n",
       "1  B0CTD47P22  SAMSUNG Galaxy A15 5G (SM-156M/DSN), 128GB 6GB...   \n",
       "\n",
       "  product_price original_price currency  star_rating  product_num_ratings  \\\n",
       "0        $99.99        $169.99      USD          4.0                 2929   \n",
       "1       $149.74        $158.00      USD          4.2                  135   \n",
       "\n",
       "                            product_url  \\\n",
       "0  https://www.amazon.com/dp/B0BQ118F2T   \n",
       "1  https://www.amazon.com/dp/B0CTD47P22   \n",
       "\n",
       "                                       product_photo minimum_oprice  \\\n",
       "0  https://m.media-amazon.com/images/I/61K1Fz5Lxv...         $64.89   \n",
       "1  https://m.media-amazon.com/images/I/51QhB2CfqS...        $145.87   \n",
       "\n",
       "   is_best_seller  is_amazon_choice  is_prime  climate_pledge_friendly  \\\n",
       "0           False             False      True                    False   \n",
       "1           False             False      True                    False   \n",
       "\n",
       "               sales_volume  \\\n",
       "0  6K+ bought in past month   \n",
       "1  3K+ bought in past month   \n",
       "\n",
       "                                            delivery  has_variations  \\\n",
       "0                           FREE delivery Tue, Aug 6            True   \n",
       "1  FREE delivery Wed, Aug 7 Only 7 left in stock ...           False   \n",
       "\n",
       "                 product_availability unit_price  unit_count  \n",
       "0                                 NaN        NaN         NaN  \n",
       "1  Only 7 left in stock - order soon.        NaN         NaN  "
      ]
     },
     "execution_count": 12,
     "metadata": {},
     "output_type": "execute_result"
    }
   ],
   "source": [
    "df.head(2)"
   ]
  },
  {
   "cell_type": "markdown",
   "metadata": {},
   "source": [
    "## Remove the NaN values from the dataset"
   ]
  },
  {
   "cell_type": "code",
   "execution_count": 13,
   "metadata": {},
   "outputs": [
    {
     "data": {
      "text/plain": [
       "asin                        0\n",
       "product_title               0\n",
       "product_price               0\n",
       "original_price             37\n",
       "currency                    0\n",
       "star_rating                10\n",
       "product_num_ratings         0\n",
       "product_url                 0\n",
       "product_photo               0\n",
       "minimum_oprice              0\n",
       "is_best_seller              0\n",
       "is_amazon_choice            0\n",
       "is_prime                    0\n",
       "climate_pledge_friendly     0\n",
       "sales_volume                3\n",
       "delivery                    1\n",
       "has_variations              0\n",
       "product_availability       63\n",
       "unit_price                 59\n",
       "unit_count                 59\n",
       "dtype: int64"
      ]
     },
     "execution_count": 13,
     "metadata": {},
     "output_type": "execute_result"
    }
   ],
   "source": [
    "df.isna().sum()"
   ]
  },
  {
   "cell_type": "code",
   "execution_count": 14,
   "metadata": {},
   "outputs": [
    {
     "data": {
      "text/plain": [
       "(64, 20)"
      ]
     },
     "execution_count": 14,
     "metadata": {},
     "output_type": "execute_result"
    }
   ],
   "source": [
    "df.shape"
   ]
  },
  {
   "cell_type": "code",
   "execution_count": 15,
   "metadata": {},
   "outputs": [
    {
     "data": {
      "text/plain": [
       "0    4.7\n",
       "Name: star_rating, dtype: float64"
      ]
     },
     "execution_count": 15,
     "metadata": {},
     "output_type": "execute_result"
    }
   ],
   "source": [
    "df['star_rating'].mode()"
   ]
  },
  {
   "cell_type": "code",
   "execution_count": 16,
   "metadata": {},
   "outputs": [
    {
     "name": "stderr",
     "output_type": "stream",
     "text": [
      "C:\\Users\\HP\\AppData\\Local\\Temp\\ipykernel_12036\\4025014782.py:1: SettingWithCopyWarning: \n",
      "A value is trying to be set on a copy of a slice from a DataFrame.\n",
      "Try using .loc[row_indexer,col_indexer] = value instead\n",
      "\n",
      "See the caveats in the documentation: https://pandas.pydata.org/pandas-docs/stable/user_guide/indexing.html#returning-a-view-versus-a-copy\n",
      "  df['star_rating'] = df['star_rating'].fillna(4.7)\n"
     ]
    }
   ],
   "source": [
    "df['star_rating'] = df['star_rating'].fillna(4.7)"
   ]
  },
  {
   "cell_type": "code",
   "execution_count": 17,
   "metadata": {},
   "outputs": [
    {
     "data": {
      "text/plain": [
       "asin                        0\n",
       "product_title               0\n",
       "product_price               0\n",
       "original_price             37\n",
       "currency                    0\n",
       "star_rating                 0\n",
       "product_num_ratings         0\n",
       "product_url                 0\n",
       "product_photo               0\n",
       "minimum_oprice              0\n",
       "is_best_seller              0\n",
       "is_amazon_choice            0\n",
       "is_prime                    0\n",
       "climate_pledge_friendly     0\n",
       "sales_volume                3\n",
       "delivery                    1\n",
       "has_variations              0\n",
       "product_availability       63\n",
       "unit_price                 59\n",
       "unit_count                 59\n",
       "dtype: int64"
      ]
     },
     "execution_count": 17,
     "metadata": {},
     "output_type": "execute_result"
    }
   ],
   "source": [
    "df.isna().sum()"
   ]
  },
  {
   "cell_type": "code",
   "execution_count": 18,
   "metadata": {},
   "outputs": [
    {
     "name": "stderr",
     "output_type": "stream",
     "text": [
      "C:\\Users\\HP\\AppData\\Local\\Temp\\ipykernel_12036\\3057888558.py:1: SettingWithCopyWarning: \n",
      "A value is trying to be set on a copy of a slice from a DataFrame\n",
      "\n",
      "See the caveats in the documentation: https://pandas.pydata.org/pandas-docs/stable/user_guide/indexing.html#returning-a-view-versus-a-copy\n",
      "  df.drop('original_price', axis= 1, inplace=True)\n"
     ]
    }
   ],
   "source": [
    "df.drop('original_price', axis= 1, inplace=True)"
   ]
  },
  {
   "cell_type": "code",
   "execution_count": 19,
   "metadata": {},
   "outputs": [
    {
     "name": "stderr",
     "output_type": "stream",
     "text": [
      "C:\\Users\\HP\\AppData\\Local\\Temp\\ipykernel_12036\\3405155390.py:1: SettingWithCopyWarning: \n",
      "A value is trying to be set on a copy of a slice from a DataFrame\n",
      "\n",
      "See the caveats in the documentation: https://pandas.pydata.org/pandas-docs/stable/user_guide/indexing.html#returning-a-view-versus-a-copy\n",
      "  df.drop('product_availability', axis= 1, inplace=True)\n"
     ]
    }
   ],
   "source": [
    "df.drop('product_availability', axis= 1, inplace=True)"
   ]
  },
  {
   "cell_type": "code",
   "execution_count": 20,
   "metadata": {},
   "outputs": [
    {
     "name": "stderr",
     "output_type": "stream",
     "text": [
      "C:\\Users\\HP\\AppData\\Local\\Temp\\ipykernel_12036\\705131958.py:1: SettingWithCopyWarning: \n",
      "A value is trying to be set on a copy of a slice from a DataFrame\n",
      "\n",
      "See the caveats in the documentation: https://pandas.pydata.org/pandas-docs/stable/user_guide/indexing.html#returning-a-view-versus-a-copy\n",
      "  df.drop('unit_price', axis= 1, inplace=True)\n"
     ]
    }
   ],
   "source": [
    "df.drop('unit_price', axis= 1, inplace=True)"
   ]
  },
  {
   "cell_type": "code",
   "execution_count": 21,
   "metadata": {},
   "outputs": [
    {
     "name": "stderr",
     "output_type": "stream",
     "text": [
      "C:\\Users\\HP\\AppData\\Local\\Temp\\ipykernel_12036\\3015629744.py:1: SettingWithCopyWarning: \n",
      "A value is trying to be set on a copy of a slice from a DataFrame\n",
      "\n",
      "See the caveats in the documentation: https://pandas.pydata.org/pandas-docs/stable/user_guide/indexing.html#returning-a-view-versus-a-copy\n",
      "  df.drop('unit_count', axis= 1, inplace=True)\n"
     ]
    }
   ],
   "source": [
    "df.drop('unit_count', axis= 1, inplace=True)"
   ]
  },
  {
   "cell_type": "code",
   "execution_count": 22,
   "metadata": {},
   "outputs": [
    {
     "data": {
      "text/plain": [
       "asin                       0\n",
       "product_title              0\n",
       "product_price              0\n",
       "currency                   0\n",
       "star_rating                0\n",
       "product_num_ratings        0\n",
       "product_url                0\n",
       "product_photo              0\n",
       "minimum_oprice             0\n",
       "is_best_seller             0\n",
       "is_amazon_choice           0\n",
       "is_prime                   0\n",
       "climate_pledge_friendly    0\n",
       "sales_volume               3\n",
       "delivery                   1\n",
       "has_variations             0\n",
       "dtype: int64"
      ]
     },
     "execution_count": 22,
     "metadata": {},
     "output_type": "execute_result"
    }
   ],
   "source": [
    "df.isna().sum()"
   ]
  },
  {
   "cell_type": "code",
   "execution_count": 23,
   "metadata": {},
   "outputs": [
    {
     "name": "stderr",
     "output_type": "stream",
     "text": [
      "C:\\Users\\HP\\AppData\\Local\\Temp\\ipykernel_12036\\1379821321.py:1: SettingWithCopyWarning: \n",
      "A value is trying to be set on a copy of a slice from a DataFrame\n",
      "\n",
      "See the caveats in the documentation: https://pandas.pydata.org/pandas-docs/stable/user_guide/indexing.html#returning-a-view-versus-a-copy\n",
      "  df.dropna(inplace=True)\n"
     ]
    }
   ],
   "source": [
    "df.dropna(inplace=True)"
   ]
  },
  {
   "cell_type": "code",
   "execution_count": 24,
   "metadata": {},
   "outputs": [
    {
     "data": {
      "text/plain": [
       "asin                       0\n",
       "product_title              0\n",
       "product_price              0\n",
       "currency                   0\n",
       "star_rating                0\n",
       "product_num_ratings        0\n",
       "product_url                0\n",
       "product_photo              0\n",
       "minimum_oprice             0\n",
       "is_best_seller             0\n",
       "is_amazon_choice           0\n",
       "is_prime                   0\n",
       "climate_pledge_friendly    0\n",
       "sales_volume               0\n",
       "delivery                   0\n",
       "has_variations             0\n",
       "dtype: int64"
      ]
     },
     "execution_count": 24,
     "metadata": {},
     "output_type": "execute_result"
    }
   ],
   "source": [
    "df.isna().sum()"
   ]
  },
  {
   "cell_type": "code",
   "execution_count": 25,
   "metadata": {},
   "outputs": [],
   "source": [
    "df.reset_index(inplace=True)"
   ]
  },
  {
   "cell_type": "code",
   "execution_count": 26,
   "metadata": {},
   "outputs": [
    {
     "data": {
      "text/html": [
       "<div>\n",
       "<style scoped>\n",
       "    .dataframe tbody tr th:only-of-type {\n",
       "        vertical-align: middle;\n",
       "    }\n",
       "\n",
       "    .dataframe tbody tr th {\n",
       "        vertical-align: top;\n",
       "    }\n",
       "\n",
       "    .dataframe thead th {\n",
       "        text-align: right;\n",
       "    }\n",
       "</style>\n",
       "<table border=\"1\" class=\"dataframe\">\n",
       "  <thead>\n",
       "    <tr style=\"text-align: right;\">\n",
       "      <th></th>\n",
       "      <th>index</th>\n",
       "      <th>asin</th>\n",
       "      <th>product_title</th>\n",
       "      <th>product_price</th>\n",
       "      <th>currency</th>\n",
       "      <th>star_rating</th>\n",
       "      <th>product_num_ratings</th>\n",
       "      <th>product_url</th>\n",
       "      <th>product_photo</th>\n",
       "      <th>minimum_oprice</th>\n",
       "      <th>is_best_seller</th>\n",
       "      <th>is_amazon_choice</th>\n",
       "      <th>is_prime</th>\n",
       "      <th>climate_pledge_friendly</th>\n",
       "      <th>sales_volume</th>\n",
       "      <th>delivery</th>\n",
       "      <th>has_variations</th>\n",
       "    </tr>\n",
       "  </thead>\n",
       "  <tbody>\n",
       "    <tr>\n",
       "      <th>0</th>\n",
       "      <td>0</td>\n",
       "      <td>B0BQ118F2T</td>\n",
       "      <td>Moto G Play 2023 3-Day Battery Unlocked Made f...</td>\n",
       "      <td>$99.99</td>\n",
       "      <td>USD</td>\n",
       "      <td>4.0</td>\n",
       "      <td>2929</td>\n",
       "      <td>https://www.amazon.com/dp/B0BQ118F2T</td>\n",
       "      <td>https://m.media-amazon.com/images/I/61K1Fz5Lxv...</td>\n",
       "      <td>$64.89</td>\n",
       "      <td>False</td>\n",
       "      <td>False</td>\n",
       "      <td>True</td>\n",
       "      <td>False</td>\n",
       "      <td>6K+ bought in past month</td>\n",
       "      <td>FREE delivery Tue, Aug 6</td>\n",
       "      <td>True</td>\n",
       "    </tr>\n",
       "    <tr>\n",
       "      <th>1</th>\n",
       "      <td>1</td>\n",
       "      <td>B0CTD47P22</td>\n",
       "      <td>SAMSUNG Galaxy A15 5G (SM-156M/DSN), 128GB 6GB...</td>\n",
       "      <td>$149.74</td>\n",
       "      <td>USD</td>\n",
       "      <td>4.2</td>\n",
       "      <td>135</td>\n",
       "      <td>https://www.amazon.com/dp/B0CTD47P22</td>\n",
       "      <td>https://m.media-amazon.com/images/I/51QhB2CfqS...</td>\n",
       "      <td>$145.87</td>\n",
       "      <td>False</td>\n",
       "      <td>False</td>\n",
       "      <td>True</td>\n",
       "      <td>False</td>\n",
       "      <td>3K+ bought in past month</td>\n",
       "      <td>FREE delivery Wed, Aug 7 Only 7 left in stock ...</td>\n",
       "      <td>False</td>\n",
       "    </tr>\n",
       "    <tr>\n",
       "      <th>2</th>\n",
       "      <td>2</td>\n",
       "      <td>B0CHH6X6H2</td>\n",
       "      <td>Total by Verizon | Samsung Galaxy A03s | Locke...</td>\n",
       "      <td>$49.88</td>\n",
       "      <td>USD</td>\n",
       "      <td>3.9</td>\n",
       "      <td>205</td>\n",
       "      <td>https://www.amazon.com/dp/B0CHH6X6H2</td>\n",
       "      <td>https://m.media-amazon.com/images/I/812woqv69C...</td>\n",
       "      <td>$49.88</td>\n",
       "      <td>False</td>\n",
       "      <td>False</td>\n",
       "      <td>True</td>\n",
       "      <td>False</td>\n",
       "      <td>2K+ bought in past month</td>\n",
       "      <td>FREE delivery Tue, Aug 6</td>\n",
       "      <td>False</td>\n",
       "    </tr>\n",
       "  </tbody>\n",
       "</table>\n",
       "</div>"
      ],
      "text/plain": [
       "   index        asin                                      product_title  \\\n",
       "0      0  B0BQ118F2T  Moto G Play 2023 3-Day Battery Unlocked Made f...   \n",
       "1      1  B0CTD47P22  SAMSUNG Galaxy A15 5G (SM-156M/DSN), 128GB 6GB...   \n",
       "2      2  B0CHH6X6H2  Total by Verizon | Samsung Galaxy A03s | Locke...   \n",
       "\n",
       "  product_price currency  star_rating  product_num_ratings  \\\n",
       "0        $99.99      USD          4.0                 2929   \n",
       "1       $149.74      USD          4.2                  135   \n",
       "2        $49.88      USD          3.9                  205   \n",
       "\n",
       "                            product_url  \\\n",
       "0  https://www.amazon.com/dp/B0BQ118F2T   \n",
       "1  https://www.amazon.com/dp/B0CTD47P22   \n",
       "2  https://www.amazon.com/dp/B0CHH6X6H2   \n",
       "\n",
       "                                       product_photo minimum_oprice  \\\n",
       "0  https://m.media-amazon.com/images/I/61K1Fz5Lxv...         $64.89   \n",
       "1  https://m.media-amazon.com/images/I/51QhB2CfqS...        $145.87   \n",
       "2  https://m.media-amazon.com/images/I/812woqv69C...         $49.88   \n",
       "\n",
       "   is_best_seller  is_amazon_choice  is_prime  climate_pledge_friendly  \\\n",
       "0           False             False      True                    False   \n",
       "1           False             False      True                    False   \n",
       "2           False             False      True                    False   \n",
       "\n",
       "               sales_volume  \\\n",
       "0  6K+ bought in past month   \n",
       "1  3K+ bought in past month   \n",
       "2  2K+ bought in past month   \n",
       "\n",
       "                                            delivery  has_variations  \n",
       "0                           FREE delivery Tue, Aug 6            True  \n",
       "1  FREE delivery Wed, Aug 7 Only 7 left in stock ...           False  \n",
       "2                           FREE delivery Tue, Aug 6           False  "
      ]
     },
     "execution_count": 26,
     "metadata": {},
     "output_type": "execute_result"
    }
   ],
   "source": [
    "df.head(3)"
   ]
  },
  {
   "cell_type": "markdown",
   "metadata": {},
   "source": [
    "## note:"
   ]
  },
  {
   "cell_type": "markdown",
   "metadata": {},
   "source": [
    "I had removed (unit_price, unit_count ....etc) even though they are very important columns,\n",
    "the reason I do that cuz we have only 63 rows in this datasete! \n",
    "And the count of null values in both above columns are higher than 80%! So ya. \n",
    "I think to avoid this we should be focus in data entering stage by making sure that we will not this much of null values in important colmns like above."
   ]
  },
  {
   "cell_type": "markdown",
   "metadata": {},
   "source": [
    "## Dropping duplicates.\n"
   ]
  },
  {
   "cell_type": "code",
   "execution_count": 27,
   "metadata": {},
   "outputs": [
    {
     "data": {
      "text/plain": [
       "0"
      ]
     },
     "execution_count": 27,
     "metadata": {},
     "output_type": "execute_result"
    }
   ],
   "source": [
    "df.duplicated().sum()"
   ]
  },
  {
   "cell_type": "markdown",
   "metadata": {},
   "source": [
    "## Cleaning individual columns.\n"
   ]
  },
  {
   "cell_type": "code",
   "execution_count": 28,
   "metadata": {},
   "outputs": [
    {
     "name": "stderr",
     "output_type": "stream",
     "text": [
      "C:\\Users\\HP\\AppData\\Local\\Temp\\ipykernel_12036\\1052649163.py:1: SettingWithCopyWarning: \n",
      "A value is trying to be set on a copy of a slice from a DataFrame.\n",
      "Try using .loc[row_indexer,col_indexer] = value instead\n",
      "\n",
      "See the caveats in the documentation: https://pandas.pydata.org/pandas-docs/stable/user_guide/indexing.html#returning-a-view-versus-a-copy\n",
      "  df['product_price'] = df['product_price'].str.replace('$', '')\n"
     ]
    }
   ],
   "source": [
    "df['product_price'] = df['product_price'].str.replace('$', '')"
   ]
  },
  {
   "cell_type": "code",
   "execution_count": 29,
   "metadata": {},
   "outputs": [
    {
     "name": "stderr",
     "output_type": "stream",
     "text": [
      "C:\\Users\\HP\\AppData\\Local\\Temp\\ipykernel_12036\\1447162405.py:1: SettingWithCopyWarning: \n",
      "A value is trying to be set on a copy of a slice from a DataFrame.\n",
      "Try using .loc[row_indexer,col_indexer] = value instead\n",
      "\n",
      "See the caveats in the documentation: https://pandas.pydata.org/pandas-docs/stable/user_guide/indexing.html#returning-a-view-versus-a-copy\n",
      "  df['minimum_oprice'] = df['minimum_oprice'].str.replace('$', '')\n"
     ]
    }
   ],
   "source": [
    "df['minimum_oprice'] = df['minimum_oprice'].str.replace('$', '')"
   ]
  },
  {
   "cell_type": "code",
   "execution_count": 32,
   "metadata": {},
   "outputs": [
    {
     "data": {
      "text/html": [
       "<div>\n",
       "<style scoped>\n",
       "    .dataframe tbody tr th:only-of-type {\n",
       "        vertical-align: middle;\n",
       "    }\n",
       "\n",
       "    .dataframe tbody tr th {\n",
       "        vertical-align: top;\n",
       "    }\n",
       "\n",
       "    .dataframe thead th {\n",
       "        text-align: right;\n",
       "    }\n",
       "</style>\n",
       "<table border=\"1\" class=\"dataframe\">\n",
       "  <thead>\n",
       "    <tr style=\"text-align: right;\">\n",
       "      <th></th>\n",
       "      <th>index</th>\n",
       "      <th>asin</th>\n",
       "      <th>product_title</th>\n",
       "      <th>product_price</th>\n",
       "      <th>currency</th>\n",
       "      <th>star_rating</th>\n",
       "      <th>product_num_ratings</th>\n",
       "      <th>product_url</th>\n",
       "      <th>product_photo</th>\n",
       "      <th>minimum_oprice</th>\n",
       "      <th>is_best_seller</th>\n",
       "      <th>is_amazon_choice</th>\n",
       "      <th>is_prime</th>\n",
       "      <th>climate_pledge_friendly</th>\n",
       "      <th>sales_volume</th>\n",
       "      <th>delivery</th>\n",
       "      <th>has_variations</th>\n",
       "    </tr>\n",
       "  </thead>\n",
       "  <tbody>\n",
       "    <tr>\n",
       "      <th>0</th>\n",
       "      <td>0</td>\n",
       "      <td>B0BQ118F2T</td>\n",
       "      <td>Moto G Play 2023 3-Day Battery Unlocked Made f...</td>\n",
       "      <td>99.99</td>\n",
       "      <td>USD</td>\n",
       "      <td>4.0</td>\n",
       "      <td>2929</td>\n",
       "      <td>https://www.amazon.com/dp/B0BQ118F2T</td>\n",
       "      <td>https://m.media-amazon.com/images/I/61K1Fz5Lxv...</td>\n",
       "      <td>64.89</td>\n",
       "      <td>False</td>\n",
       "      <td>False</td>\n",
       "      <td>True</td>\n",
       "      <td>False</td>\n",
       "      <td>6K+ bought in past month</td>\n",
       "      <td>FREE delivery Tue, Aug 6</td>\n",
       "      <td>True</td>\n",
       "    </tr>\n",
       "    <tr>\n",
       "      <th>1</th>\n",
       "      <td>1</td>\n",
       "      <td>B0CTD47P22</td>\n",
       "      <td>SAMSUNG Galaxy A15 5G (SM-156M/DSN), 128GB 6GB...</td>\n",
       "      <td>149.74</td>\n",
       "      <td>USD</td>\n",
       "      <td>4.2</td>\n",
       "      <td>135</td>\n",
       "      <td>https://www.amazon.com/dp/B0CTD47P22</td>\n",
       "      <td>https://m.media-amazon.com/images/I/51QhB2CfqS...</td>\n",
       "      <td>145.87</td>\n",
       "      <td>False</td>\n",
       "      <td>False</td>\n",
       "      <td>True</td>\n",
       "      <td>False</td>\n",
       "      <td>3K+ bought in past month</td>\n",
       "      <td>FREE delivery Wed, Aug 7 Only 7 left in stock ...</td>\n",
       "      <td>False</td>\n",
       "    </tr>\n",
       "  </tbody>\n",
       "</table>\n",
       "</div>"
      ],
      "text/plain": [
       "   index        asin                                      product_title  \\\n",
       "0      0  B0BQ118F2T  Moto G Play 2023 3-Day Battery Unlocked Made f...   \n",
       "1      1  B0CTD47P22  SAMSUNG Galaxy A15 5G (SM-156M/DSN), 128GB 6GB...   \n",
       "\n",
       "  product_price currency  star_rating  product_num_ratings  \\\n",
       "0         99.99      USD          4.0                 2929   \n",
       "1        149.74      USD          4.2                  135   \n",
       "\n",
       "                            product_url  \\\n",
       "0  https://www.amazon.com/dp/B0BQ118F2T   \n",
       "1  https://www.amazon.com/dp/B0CTD47P22   \n",
       "\n",
       "                                       product_photo minimum_oprice  \\\n",
       "0  https://m.media-amazon.com/images/I/61K1Fz5Lxv...          64.89   \n",
       "1  https://m.media-amazon.com/images/I/51QhB2CfqS...         145.87   \n",
       "\n",
       "   is_best_seller  is_amazon_choice  is_prime  climate_pledge_friendly  \\\n",
       "0           False             False      True                    False   \n",
       "1           False             False      True                    False   \n",
       "\n",
       "               sales_volume  \\\n",
       "0  6K+ bought in past month   \n",
       "1  3K+ bought in past month   \n",
       "\n",
       "                                            delivery  has_variations  \n",
       "0                           FREE delivery Tue, Aug 6            True  \n",
       "1  FREE delivery Wed, Aug 7 Only 7 left in stock ...           False  "
      ]
     },
     "execution_count": 32,
     "metadata": {},
     "output_type": "execute_result"
    }
   ],
   "source": [
    "df.head(2)"
   ]
  },
  {
   "cell_type": "markdown",
   "metadata": {},
   "source": [
    "## Check for some more Transformations\n"
   ]
  },
  {
   "cell_type": "code",
   "execution_count": 34,
   "metadata": {},
   "outputs": [
    {
     "name": "stderr",
     "output_type": "stream",
     "text": [
      "C:\\Users\\HP\\AppData\\Local\\Temp\\ipykernel_12036\\2054608296.py:1: SettingWithCopyWarning: \n",
      "A value is trying to be set on a copy of a slice from a DataFrame.\n",
      "Try using .loc[row_indexer,col_indexer] = value instead\n",
      "\n",
      "See the caveats in the documentation: https://pandas.pydata.org/pandas-docs/stable/user_guide/indexing.html#returning-a-view-versus-a-copy\n",
      "  df['product_price'] = df['product_price'].astype(float)  # Convert to float\n"
     ]
    }
   ],
   "source": [
    "df['product_price'] = df['product_price'].astype(float)  # Convert to float\n"
   ]
  },
  {
   "cell_type": "code",
   "execution_count": 35,
   "metadata": {},
   "outputs": [
    {
     "name": "stderr",
     "output_type": "stream",
     "text": [
      "C:\\Users\\HP\\AppData\\Local\\Temp\\ipykernel_12036\\2778006527.py:1: SettingWithCopyWarning: \n",
      "A value is trying to be set on a copy of a slice from a DataFrame.\n",
      "Try using .loc[row_indexer,col_indexer] = value instead\n",
      "\n",
      "See the caveats in the documentation: https://pandas.pydata.org/pandas-docs/stable/user_guide/indexing.html#returning-a-view-versus-a-copy\n",
      "  df['product_price'] = df['product_price'].apply(lambda x: round(x))\n"
     ]
    }
   ],
   "source": [
    "df['product_price'] = df['product_price'].apply(lambda x: round(x))"
   ]
  },
  {
   "cell_type": "code",
   "execution_count": 37,
   "metadata": {},
   "outputs": [
    {
     "name": "stderr",
     "output_type": "stream",
     "text": [
      "C:\\Users\\HP\\AppData\\Local\\Temp\\ipykernel_12036\\3270638879.py:1: SettingWithCopyWarning: \n",
      "A value is trying to be set on a copy of a slice from a DataFrame\n",
      "\n",
      "See the caveats in the documentation: https://pandas.pydata.org/pandas-docs/stable/user_guide/indexing.html#returning-a-view-versus-a-copy\n",
      "  df.rename(columns = {'minimum_oprice': 'minimum_price'}, inplace= True)\n"
     ]
    }
   ],
   "source": [
    "df.rename(columns = {'minimum_oprice': 'minimum_price'}, inplace= True)"
   ]
  },
  {
   "cell_type": "code",
   "execution_count": 38,
   "metadata": {},
   "outputs": [
    {
     "name": "stderr",
     "output_type": "stream",
     "text": [
      "C:\\Users\\HP\\AppData\\Local\\Temp\\ipykernel_12036\\1039919179.py:1: SettingWithCopyWarning: \n",
      "A value is trying to be set on a copy of a slice from a DataFrame.\n",
      "Try using .loc[row_indexer,col_indexer] = value instead\n",
      "\n",
      "See the caveats in the documentation: https://pandas.pydata.org/pandas-docs/stable/user_guide/indexing.html#returning-a-view-versus-a-copy\n",
      "  df['minimum_price'] = df['minimum_price'].astype(float)  # Convert to float\n"
     ]
    }
   ],
   "source": [
    "df['minimum_price'] = df['minimum_price'].astype(float)  # Convert to float\n"
   ]
  },
  {
   "cell_type": "code",
   "execution_count": 39,
   "metadata": {},
   "outputs": [
    {
     "name": "stderr",
     "output_type": "stream",
     "text": [
      "C:\\Users\\HP\\AppData\\Local\\Temp\\ipykernel_12036\\1524545952.py:1: SettingWithCopyWarning: \n",
      "A value is trying to be set on a copy of a slice from a DataFrame.\n",
      "Try using .loc[row_indexer,col_indexer] = value instead\n",
      "\n",
      "See the caveats in the documentation: https://pandas.pydata.org/pandas-docs/stable/user_guide/indexing.html#returning-a-view-versus-a-copy\n",
      "  df['minimum_price'] = df['minimum_price'].apply(lambda x: round(x))\n"
     ]
    }
   ],
   "source": [
    "df['minimum_price'] = df['minimum_price'].apply(lambda x: round(x))"
   ]
  },
  {
   "cell_type": "code",
   "execution_count": 40,
   "metadata": {},
   "outputs": [
    {
     "data": {
      "text/html": [
       "<div>\n",
       "<style scoped>\n",
       "    .dataframe tbody tr th:only-of-type {\n",
       "        vertical-align: middle;\n",
       "    }\n",
       "\n",
       "    .dataframe tbody tr th {\n",
       "        vertical-align: top;\n",
       "    }\n",
       "\n",
       "    .dataframe thead th {\n",
       "        text-align: right;\n",
       "    }\n",
       "</style>\n",
       "<table border=\"1\" class=\"dataframe\">\n",
       "  <thead>\n",
       "    <tr style=\"text-align: right;\">\n",
       "      <th></th>\n",
       "      <th>index</th>\n",
       "      <th>asin</th>\n",
       "      <th>product_title</th>\n",
       "      <th>product_price</th>\n",
       "      <th>currency</th>\n",
       "      <th>star_rating</th>\n",
       "      <th>product_num_ratings</th>\n",
       "      <th>product_url</th>\n",
       "      <th>product_photo</th>\n",
       "      <th>minimum_price</th>\n",
       "      <th>is_best_seller</th>\n",
       "      <th>is_amazon_choice</th>\n",
       "      <th>is_prime</th>\n",
       "      <th>climate_pledge_friendly</th>\n",
       "      <th>sales_volume</th>\n",
       "      <th>delivery</th>\n",
       "      <th>has_variations</th>\n",
       "    </tr>\n",
       "  </thead>\n",
       "  <tbody>\n",
       "    <tr>\n",
       "      <th>0</th>\n",
       "      <td>0</td>\n",
       "      <td>B0BQ118F2T</td>\n",
       "      <td>Moto G Play 2023 3-Day Battery Unlocked Made f...</td>\n",
       "      <td>100</td>\n",
       "      <td>USD</td>\n",
       "      <td>4.0</td>\n",
       "      <td>2929</td>\n",
       "      <td>https://www.amazon.com/dp/B0BQ118F2T</td>\n",
       "      <td>https://m.media-amazon.com/images/I/61K1Fz5Lxv...</td>\n",
       "      <td>65</td>\n",
       "      <td>False</td>\n",
       "      <td>False</td>\n",
       "      <td>True</td>\n",
       "      <td>False</td>\n",
       "      <td>6K+ bought in past month</td>\n",
       "      <td>FREE delivery Tue, Aug 6</td>\n",
       "      <td>True</td>\n",
       "    </tr>\n",
       "    <tr>\n",
       "      <th>1</th>\n",
       "      <td>1</td>\n",
       "      <td>B0CTD47P22</td>\n",
       "      <td>SAMSUNG Galaxy A15 5G (SM-156M/DSN), 128GB 6GB...</td>\n",
       "      <td>150</td>\n",
       "      <td>USD</td>\n",
       "      <td>4.2</td>\n",
       "      <td>135</td>\n",
       "      <td>https://www.amazon.com/dp/B0CTD47P22</td>\n",
       "      <td>https://m.media-amazon.com/images/I/51QhB2CfqS...</td>\n",
       "      <td>146</td>\n",
       "      <td>False</td>\n",
       "      <td>False</td>\n",
       "      <td>True</td>\n",
       "      <td>False</td>\n",
       "      <td>3K+ bought in past month</td>\n",
       "      <td>FREE delivery Wed, Aug 7 Only 7 left in stock ...</td>\n",
       "      <td>False</td>\n",
       "    </tr>\n",
       "    <tr>\n",
       "      <th>2</th>\n",
       "      <td>2</td>\n",
       "      <td>B0CHH6X6H2</td>\n",
       "      <td>Total by Verizon | Samsung Galaxy A03s | Locke...</td>\n",
       "      <td>50</td>\n",
       "      <td>USD</td>\n",
       "      <td>3.9</td>\n",
       "      <td>205</td>\n",
       "      <td>https://www.amazon.com/dp/B0CHH6X6H2</td>\n",
       "      <td>https://m.media-amazon.com/images/I/812woqv69C...</td>\n",
       "      <td>50</td>\n",
       "      <td>False</td>\n",
       "      <td>False</td>\n",
       "      <td>True</td>\n",
       "      <td>False</td>\n",
       "      <td>2K+ bought in past month</td>\n",
       "      <td>FREE delivery Tue, Aug 6</td>\n",
       "      <td>False</td>\n",
       "    </tr>\n",
       "  </tbody>\n",
       "</table>\n",
       "</div>"
      ],
      "text/plain": [
       "   index        asin                                      product_title  \\\n",
       "0      0  B0BQ118F2T  Moto G Play 2023 3-Day Battery Unlocked Made f...   \n",
       "1      1  B0CTD47P22  SAMSUNG Galaxy A15 5G (SM-156M/DSN), 128GB 6GB...   \n",
       "2      2  B0CHH6X6H2  Total by Verizon | Samsung Galaxy A03s | Locke...   \n",
       "\n",
       "   product_price currency  star_rating  product_num_ratings  \\\n",
       "0            100      USD          4.0                 2929   \n",
       "1            150      USD          4.2                  135   \n",
       "2             50      USD          3.9                  205   \n",
       "\n",
       "                            product_url  \\\n",
       "0  https://www.amazon.com/dp/B0BQ118F2T   \n",
       "1  https://www.amazon.com/dp/B0CTD47P22   \n",
       "2  https://www.amazon.com/dp/B0CHH6X6H2   \n",
       "\n",
       "                                       product_photo  minimum_price  \\\n",
       "0  https://m.media-amazon.com/images/I/61K1Fz5Lxv...             65   \n",
       "1  https://m.media-amazon.com/images/I/51QhB2CfqS...            146   \n",
       "2  https://m.media-amazon.com/images/I/812woqv69C...             50   \n",
       "\n",
       "   is_best_seller  is_amazon_choice  is_prime  climate_pledge_friendly  \\\n",
       "0           False             False      True                    False   \n",
       "1           False             False      True                    False   \n",
       "2           False             False      True                    False   \n",
       "\n",
       "               sales_volume  \\\n",
       "0  6K+ bought in past month   \n",
       "1  3K+ bought in past month   \n",
       "2  2K+ bought in past month   \n",
       "\n",
       "                                            delivery  has_variations  \n",
       "0                           FREE delivery Tue, Aug 6            True  \n",
       "1  FREE delivery Wed, Aug 7 Only 7 left in stock ...           False  \n",
       "2                           FREE delivery Tue, Aug 6           False  "
      ]
     },
     "execution_count": 40,
     "metadata": {},
     "output_type": "execute_result"
    }
   ],
   "source": [
    "df.head(3)"
   ]
  },
  {
   "cell_type": "code",
   "execution_count": 42,
   "metadata": {},
   "outputs": [
    {
     "name": "stderr",
     "output_type": "stream",
     "text": [
      "C:\\Users\\HP\\AppData\\Local\\Temp\\ipykernel_12036\\1014923983.py:1: SettingWithCopyWarning: \n",
      "A value is trying to be set on a copy of a slice from a DataFrame.\n",
      "Try using .loc[row_indexer,col_indexer] = value instead\n",
      "\n",
      "See the caveats in the documentation: https://pandas.pydata.org/pandas-docs/stable/user_guide/indexing.html#returning-a-view-versus-a-copy\n",
      "  df['is_best_seller'] = df['is_best_seller'].apply(lambda x : 1 if True else 0)\n"
     ]
    }
   ],
   "source": [
    "df['is_best_seller'] = df['is_best_seller'].apply(lambda x : 1 if True else 0)"
   ]
  },
  {
   "cell_type": "code",
   "execution_count": 43,
   "metadata": {},
   "outputs": [
    {
     "name": "stderr",
     "output_type": "stream",
     "text": [
      "C:\\Users\\HP\\AppData\\Local\\Temp\\ipykernel_12036\\3700145093.py:1: SettingWithCopyWarning: \n",
      "A value is trying to be set on a copy of a slice from a DataFrame.\n",
      "Try using .loc[row_indexer,col_indexer] = value instead\n",
      "\n",
      "See the caveats in the documentation: https://pandas.pydata.org/pandas-docs/stable/user_guide/indexing.html#returning-a-view-versus-a-copy\n",
      "  df['is_amazon_choice'] = df['is_amazon_choice'].apply(lambda x : 1 if True else 0)\n"
     ]
    }
   ],
   "source": [
    "df['is_amazon_choice'] = df['is_amazon_choice'].apply(lambda x : 1 if True else 0)"
   ]
  },
  {
   "cell_type": "code",
   "execution_count": 45,
   "metadata": {},
   "outputs": [
    {
     "name": "stderr",
     "output_type": "stream",
     "text": [
      "C:\\Users\\HP\\AppData\\Local\\Temp\\ipykernel_12036\\460311327.py:1: SettingWithCopyWarning: \n",
      "A value is trying to be set on a copy of a slice from a DataFrame.\n",
      "Try using .loc[row_indexer,col_indexer] = value instead\n",
      "\n",
      "See the caveats in the documentation: https://pandas.pydata.org/pandas-docs/stable/user_guide/indexing.html#returning-a-view-versus-a-copy\n",
      "  df['has_variations'] = df['has_variations'].apply(lambda x : 1 if True else 0)\n"
     ]
    }
   ],
   "source": [
    "df['has_variations'] = df['has_variations'].apply(lambda x : 1 if True else 0)"
   ]
  },
  {
   "cell_type": "code",
   "execution_count": null,
   "metadata": {},
   "outputs": [],
   "source": [
    "df['is_best_seller'] = df['is_best_seller'].apply(lambda x : 1 if True else 0)"
   ]
  },
  {
   "cell_type": "code",
   "execution_count": 46,
   "metadata": {},
   "outputs": [
    {
     "data": {
      "text/html": [
       "<div>\n",
       "<style scoped>\n",
       "    .dataframe tbody tr th:only-of-type {\n",
       "        vertical-align: middle;\n",
       "    }\n",
       "\n",
       "    .dataframe tbody tr th {\n",
       "        vertical-align: top;\n",
       "    }\n",
       "\n",
       "    .dataframe thead th {\n",
       "        text-align: right;\n",
       "    }\n",
       "</style>\n",
       "<table border=\"1\" class=\"dataframe\">\n",
       "  <thead>\n",
       "    <tr style=\"text-align: right;\">\n",
       "      <th></th>\n",
       "      <th>index</th>\n",
       "      <th>asin</th>\n",
       "      <th>product_title</th>\n",
       "      <th>product_price</th>\n",
       "      <th>currency</th>\n",
       "      <th>star_rating</th>\n",
       "      <th>product_num_ratings</th>\n",
       "      <th>product_url</th>\n",
       "      <th>product_photo</th>\n",
       "      <th>minimum_price</th>\n",
       "      <th>is_best_seller</th>\n",
       "      <th>is_amazon_choice</th>\n",
       "      <th>is_prime</th>\n",
       "      <th>climate_pledge_friendly</th>\n",
       "      <th>sales_volume</th>\n",
       "      <th>delivery</th>\n",
       "      <th>has_variations</th>\n",
       "    </tr>\n",
       "  </thead>\n",
       "  <tbody>\n",
       "    <tr>\n",
       "      <th>0</th>\n",
       "      <td>0</td>\n",
       "      <td>B0BQ118F2T</td>\n",
       "      <td>Moto G Play 2023 3-Day Battery Unlocked Made f...</td>\n",
       "      <td>100</td>\n",
       "      <td>USD</td>\n",
       "      <td>4.0</td>\n",
       "      <td>2929</td>\n",
       "      <td>https://www.amazon.com/dp/B0BQ118F2T</td>\n",
       "      <td>https://m.media-amazon.com/images/I/61K1Fz5Lxv...</td>\n",
       "      <td>65</td>\n",
       "      <td>1</td>\n",
       "      <td>1</td>\n",
       "      <td>1</td>\n",
       "      <td>False</td>\n",
       "      <td>6K+ bought in past month</td>\n",
       "      <td>FREE delivery Tue, Aug 6</td>\n",
       "      <td>1</td>\n",
       "    </tr>\n",
       "    <tr>\n",
       "      <th>1</th>\n",
       "      <td>1</td>\n",
       "      <td>B0CTD47P22</td>\n",
       "      <td>SAMSUNG Galaxy A15 5G (SM-156M/DSN), 128GB 6GB...</td>\n",
       "      <td>150</td>\n",
       "      <td>USD</td>\n",
       "      <td>4.2</td>\n",
       "      <td>135</td>\n",
       "      <td>https://www.amazon.com/dp/B0CTD47P22</td>\n",
       "      <td>https://m.media-amazon.com/images/I/51QhB2CfqS...</td>\n",
       "      <td>146</td>\n",
       "      <td>1</td>\n",
       "      <td>1</td>\n",
       "      <td>1</td>\n",
       "      <td>False</td>\n",
       "      <td>3K+ bought in past month</td>\n",
       "      <td>FREE delivery Wed, Aug 7 Only 7 left in stock ...</td>\n",
       "      <td>1</td>\n",
       "    </tr>\n",
       "  </tbody>\n",
       "</table>\n",
       "</div>"
      ],
      "text/plain": [
       "   index        asin                                      product_title  \\\n",
       "0      0  B0BQ118F2T  Moto G Play 2023 3-Day Battery Unlocked Made f...   \n",
       "1      1  B0CTD47P22  SAMSUNG Galaxy A15 5G (SM-156M/DSN), 128GB 6GB...   \n",
       "\n",
       "   product_price currency  star_rating  product_num_ratings  \\\n",
       "0            100      USD          4.0                 2929   \n",
       "1            150      USD          4.2                  135   \n",
       "\n",
       "                            product_url  \\\n",
       "0  https://www.amazon.com/dp/B0BQ118F2T   \n",
       "1  https://www.amazon.com/dp/B0CTD47P22   \n",
       "\n",
       "                                       product_photo  minimum_price  \\\n",
       "0  https://m.media-amazon.com/images/I/61K1Fz5Lxv...             65   \n",
       "1  https://m.media-amazon.com/images/I/51QhB2CfqS...            146   \n",
       "\n",
       "   is_best_seller  is_amazon_choice  is_prime  climate_pledge_friendly  \\\n",
       "0               1                 1         1                    False   \n",
       "1               1                 1         1                    False   \n",
       "\n",
       "               sales_volume  \\\n",
       "0  6K+ bought in past month   \n",
       "1  3K+ bought in past month   \n",
       "\n",
       "                                            delivery  has_variations  \n",
       "0                           FREE delivery Tue, Aug 6               1  \n",
       "1  FREE delivery Wed, Aug 7 Only 7 left in stock ...               1  "
      ]
     },
     "execution_count": 46,
     "metadata": {},
     "output_type": "execute_result"
    }
   ],
   "source": [
    "df.head(2)"
   ]
  },
  {
   "cell_type": "code",
   "execution_count": 47,
   "metadata": {},
   "outputs": [
    {
     "data": {
      "text/html": [
       "<div>\n",
       "<style scoped>\n",
       "    .dataframe tbody tr th:only-of-type {\n",
       "        vertical-align: middle;\n",
       "    }\n",
       "\n",
       "    .dataframe tbody tr th {\n",
       "        vertical-align: top;\n",
       "    }\n",
       "\n",
       "    .dataframe thead th {\n",
       "        text-align: right;\n",
       "    }\n",
       "</style>\n",
       "<table border=\"1\" class=\"dataframe\">\n",
       "  <thead>\n",
       "    <tr style=\"text-align: right;\">\n",
       "      <th></th>\n",
       "      <th>index</th>\n",
       "      <th>asin</th>\n",
       "      <th>product_title</th>\n",
       "      <th>product_price</th>\n",
       "      <th>currency</th>\n",
       "      <th>star_rating</th>\n",
       "      <th>product_num_ratings</th>\n",
       "      <th>product_url</th>\n",
       "      <th>product_photo</th>\n",
       "      <th>minimum_price</th>\n",
       "      <th>is_best_seller</th>\n",
       "      <th>is_amazon_choice</th>\n",
       "      <th>is_prime</th>\n",
       "      <th>climate_pledge_friendly</th>\n",
       "      <th>sales_volume</th>\n",
       "      <th>delivery</th>\n",
       "      <th>has_variations</th>\n",
       "    </tr>\n",
       "  </thead>\n",
       "  <tbody>\n",
       "    <tr>\n",
       "      <th>58</th>\n",
       "      <td>62</td>\n",
       "      <td>B09Z7J4L6X</td>\n",
       "      <td>Xbox Wireless Controller – Sky Cipher Special ...</td>\n",
       "      <td>70</td>\n",
       "      <td>USD</td>\n",
       "      <td>2.6</td>\n",
       "      <td>12</td>\n",
       "      <td>https://www.amazon.com/dp/B09Z7J4L6X</td>\n",
       "      <td>https://m.media-amazon.com/images/I/71i2tEKlZ2...</td>\n",
       "      <td>70</td>\n",
       "      <td>1</td>\n",
       "      <td>1</td>\n",
       "      <td>1</td>\n",
       "      <td>False</td>\n",
       "      <td>Aug 13, 2024</td>\n",
       "      <td>FREE deliveryThis item will be released on Aug...</td>\n",
       "      <td>1</td>\n",
       "    </tr>\n",
       "    <tr>\n",
       "      <th>59</th>\n",
       "      <td>63</td>\n",
       "      <td>B0CT2R7199</td>\n",
       "      <td>HP DeskJet 2855e Wireless All-in-One Color Ink...</td>\n",
       "      <td>60</td>\n",
       "      <td>USD</td>\n",
       "      <td>4.0</td>\n",
       "      <td>48154</td>\n",
       "      <td>https://www.amazon.com/dp/B0CT2R7199</td>\n",
       "      <td>https://m.media-amazon.com/images/I/61+biEwB1h...</td>\n",
       "      <td>60</td>\n",
       "      <td>1</td>\n",
       "      <td>1</td>\n",
       "      <td>1</td>\n",
       "      <td>True</td>\n",
       "      <td>80K+ bought in past month</td>\n",
       "      <td>FREE delivery</td>\n",
       "      <td>1</td>\n",
       "    </tr>\n",
       "  </tbody>\n",
       "</table>\n",
       "</div>"
      ],
      "text/plain": [
       "    index        asin                                      product_title  \\\n",
       "58     62  B09Z7J4L6X  Xbox Wireless Controller – Sky Cipher Special ...   \n",
       "59     63  B0CT2R7199  HP DeskJet 2855e Wireless All-in-One Color Ink...   \n",
       "\n",
       "    product_price currency  star_rating  product_num_ratings  \\\n",
       "58             70      USD          2.6                   12   \n",
       "59             60      USD          4.0                48154   \n",
       "\n",
       "                             product_url  \\\n",
       "58  https://www.amazon.com/dp/B09Z7J4L6X   \n",
       "59  https://www.amazon.com/dp/B0CT2R7199   \n",
       "\n",
       "                                        product_photo  minimum_price  \\\n",
       "58  https://m.media-amazon.com/images/I/71i2tEKlZ2...             70   \n",
       "59  https://m.media-amazon.com/images/I/61+biEwB1h...             60   \n",
       "\n",
       "    is_best_seller  is_amazon_choice  is_prime  climate_pledge_friendly  \\\n",
       "58               1                 1         1                    False   \n",
       "59               1                 1         1                     True   \n",
       "\n",
       "                 sales_volume  \\\n",
       "58               Aug 13, 2024   \n",
       "59  80K+ bought in past month   \n",
       "\n",
       "                                             delivery  has_variations  \n",
       "58  FREE deliveryThis item will be released on Aug...               1  \n",
       "59                                      FREE delivery               1  "
      ]
     },
     "execution_count": 47,
     "metadata": {},
     "output_type": "execute_result"
    }
   ],
   "source": [
    "df.tail(2)"
   ]
  },
  {
   "cell_type": "markdown",
   "metadata": {},
   "source": [
    "## Done"
   ]
  },
  {
   "cell_type": "markdown",
   "metadata": {},
   "source": [
    "For above last steps are more likely to be useful when we working with ML.\n",
    "\n",
    "I hope u will understand that am good in data cleaning.\n",
    "\n",
    "Also put in mind that am still student, with no work expereince.\n",
    "\n",
    "with work experience sure I will be better.\n",
    "\n",
    "I will be having data cleaning projects as well, I will do my best to show u how I can reach to anywhere and asnswer such deep Questions for better decision making.\n",
    "\n",
    "Also will work with Power BI as well, for better data visualization.\n",
    "\n"
   ]
  },
  {
   "cell_type": "markdown",
   "metadata": {},
   "source": [
    "## Stay Tune ..."
   ]
  }
 ],
 "metadata": {
  "kernelspec": {
   "display_name": "base",
   "language": "python",
   "name": "python3"
  },
  "language_info": {
   "codemirror_mode": {
    "name": "ipython",
    "version": 3
   },
   "file_extension": ".py",
   "mimetype": "text/x-python",
   "name": "python",
   "nbconvert_exporter": "python",
   "pygments_lexer": "ipython3",
   "version": "3.11.5"
  }
 },
 "nbformat": 4,
 "nbformat_minor": 2
}
